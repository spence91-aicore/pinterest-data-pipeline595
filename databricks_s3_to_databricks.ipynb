{
 "cells": [
  {
   "cell_type": "markdown",
   "metadata": {
    "application/vnd.databricks.v1+cell": {
     "cellMetadata": {},
     "inputWidgets": {},
     "nuid": "761777ba-04fa-49c7-b79d-68509764dd11",
     "showTitle": false,
     "title": ""
    }
   },
   "source": [
    "# Moving S3 Data to Databricks\n",
    "\n",
    "## first Step - mounting the S3 bucket to Databricks:\n"
   ]
  },
  {
   "cell_type": "code",
   "execution_count": null,
   "metadata": {
    "application/vnd.databricks.v1+cell": {
     "cellMetadata": {
      "byteLimit": 2048000,
      "rowLimit": 10000
     },
     "inputWidgets": {},
     "nuid": "a3c8205d-208e-45b3-92ea-508ba9b5d488",
     "showTitle": false,
     "title": ""
    }
   },
   "outputs": [
    {
     "data": {
      "text/html": [
       "<style scoped>\n",
       "  .ansiout {\n",
       "    display: block;\n",
       "    unicode-bidi: embed;\n",
       "    white-space: pre-wrap;\n",
       "    word-wrap: break-word;\n",
       "    word-break: break-all;\n",
       "    font-family: \"Menlo\", \"Monaco\", \"Consolas\", \"Ubuntu Mono\", \"Source Code Pro\", monospace;\n",
       "    font-size: 13px;\n",
       "    color: #555;\n",
       "    margin-left: 4px;\n",
       "    line-height: 19px;\n",
       "  }\n",
       "</style>\n",
       "<div class=\"ansiout\">Out[12]: True</div>"
      ]
     },
     "metadata": {
      "application/vnd.databricks.v1+output": {
       "addedWidgets": {},
       "arguments": {},
       "data": "<div class=\"ansiout\">Out[12]: True</div>",
       "datasetInfos": [],
       "metadata": {},
       "removedWidgets": [],
       "type": "html"
      }
     },
     "output_type": "display_data"
    }
   ],
   "source": [
    "from pyspark.sql import *\n",
    "import urllib\n",
    "\n",
    "table_path = \"dbfs:/user/hive/warehouse/authentication_credentials\" \n",
    "aws_keys_df = spark.read.format(\"delta\").load(table_path) \n",
    "\n",
    "# Get the AWS access key and secret key from the spark dataframe\n",
    "ACCESS_KEY = aws_keys_df.select('Access key ID').collect()[0]['Access key ID']\n",
    "SECRET_KEY = aws_keys_df.select('Secret access key').collect()[0]['Secret access key']\n",
    "# Encode the secrete key\n",
    "ENCODED_SECRET_KEY = urllib.parse.quote(string=SECRET_KEY, safe=\"\")\n",
    "\n",
    "# AWS S3 bucket name\n",
    "AWS_S3_BUCKET = \"user-124a514b9149-bucket\"\n",
    "# Mount name for the bucket\n",
    "MOUNT_NAME = \"/mnt/124a514b9149-bucket\"\n",
    "# Source url\n",
    "SOURCE_URL = \"s3n://{0}:{1}@{2}\".format(ACCESS_KEY, ENCODED_SECRET_KEY, AWS_S3_BUCKET)\n",
    "# Mount the drive, skip if it's already mounted\n",
    "if any(mount.mountPoint == MOUNT_NAME for mount in dbutils.fs.mounts()):\n",
    "    pass\n",
    "else:\n",
    "    dbutils.fs.mount(SOURCE_URL, MOUNT_NAME,) # will fail if already mounted\n"
   ]
  },
  {
   "cell_type": "markdown",
   "metadata": {
    "application/vnd.databricks.v1+cell": {
     "cellMetadata": {},
     "inputWidgets": {},
     "nuid": "d132ebab-8b8f-4329-9d4a-4f673c871784",
     "showTitle": false,
     "title": ""
    }
   },
   "source": [
    "## Step 2 - confirm the bucket has been mounted\n",
    "\n",
    "Below should show .json files, in one of the dirs that Kafka deposits into."
   ]
  },
  {
   "cell_type": "code",
   "execution_count": null,
   "metadata": {
    "application/vnd.databricks.v1+cell": {
     "cellMetadata": {
      "byteLimit": 2048000,
      "rowLimit": 10000
     },
     "inputWidgets": {},
     "nuid": "da4cd140-741e-4d90-9c97-a9cdbbbc20bf",
     "showTitle": false,
     "title": ""
    }
   },
   "outputs": [
    {
     "data": {
      "text/html": [
       "<style scoped>\n",
       "  .table-result-container {\n",
       "    max-height: 300px;\n",
       "    overflow: auto;\n",
       "  }\n",
       "  table, th, td {\n",
       "    border: 1px solid black;\n",
       "    border-collapse: collapse;\n",
       "  }\n",
       "  th, td {\n",
       "    padding: 5px;\n",
       "  }\n",
       "  th {\n",
       "    text-align: left;\n",
       "  }\n",
       "</style><div class='table-result-container'><table class='table-result'><thead style='background-color: white'><tr><th>path</th><th>name</th><th>size</th><th>modificationTime</th></tr></thead><tbody><tr><td>dbfs:/mnt/124a514b9149-bucket/topics/124a514b9149.geo/partition=0/124a514b9149.geo+0+0000000000.json</td><td>124a514b9149.geo+0+0000000000.json</td><td>108</td><td>1724105486000</td></tr><tr><td>dbfs:/mnt/124a514b9149-bucket/topics/124a514b9149.geo/partition=0/124a514b9149.geo+0+0000000001.json</td><td>124a514b9149.geo+0+0000000001.json</td><td>108</td><td>1724105488000</td></tr><tr><td>dbfs:/mnt/124a514b9149-bucket/topics/124a514b9149.geo/partition=0/124a514b9149.geo+0+0000000002.json</td><td>124a514b9149.geo+0+0000000002.json</td><td>108</td><td>1724105490000</td></tr><tr><td>dbfs:/mnt/124a514b9149-bucket/topics/124a514b9149.geo/partition=0/124a514b9149.geo+0+0000000003.json</td><td>124a514b9149.geo+0+0000000003.json</td><td>113</td><td>1724105493000</td></tr><tr><td>dbfs:/mnt/124a514b9149-bucket/topics/124a514b9149.geo/partition=0/124a514b9149.geo+0+0000000004.json</td><td>124a514b9149.geo+0+0000000004.json</td><td>105</td><td>1724105494000</td></tr><tr><td>dbfs:/mnt/124a514b9149-bucket/topics/124a514b9149.geo/partition=0/124a514b9149.geo+0+0000000005.json</td><td>124a514b9149.geo+0+0000000005.json</td><td>107</td><td>1724105495000</td></tr><tr><td>dbfs:/mnt/124a514b9149-bucket/topics/124a514b9149.geo/partition=0/124a514b9149.geo+0+0000000006.json</td><td>124a514b9149.geo+0+0000000006.json</td><td>113</td><td>1724105497000</td></tr><tr><td>dbfs:/mnt/124a514b9149-bucket/topics/124a514b9149.geo/partition=0/124a514b9149.geo+0+0000000007.json</td><td>124a514b9149.geo+0+0000000007.json</td><td>125</td><td>1724105499000</td></tr><tr><td>dbfs:/mnt/124a514b9149-bucket/topics/124a514b9149.geo/partition=0/124a514b9149.geo+0+0000000008.json</td><td>124a514b9149.geo+0+0000000008.json</td><td>109</td><td>1724105500000</td></tr><tr><td>dbfs:/mnt/124a514b9149-bucket/topics/124a514b9149.geo/partition=0/124a514b9149.geo+0+0000000009.json</td><td>124a514b9149.geo+0+0000000009.json</td><td>111</td><td>1724105501000</td></tr><tr><td>dbfs:/mnt/124a514b9149-bucket/topics/124a514b9149.geo/partition=0/124a514b9149.geo+0+0000000010.json</td><td>124a514b9149.geo+0+0000000010.json</td><td>114</td><td>1724105503000</td></tr><tr><td>dbfs:/mnt/124a514b9149-bucket/topics/124a514b9149.geo/partition=0/124a514b9149.geo+0+0000000011.json</td><td>124a514b9149.geo+0+0000000011.json</td><td>108</td><td>1724105504000</td></tr><tr><td>dbfs:/mnt/124a514b9149-bucket/topics/124a514b9149.geo/partition=0/124a514b9149.geo+0+0000000012.json</td><td>124a514b9149.geo+0+0000000012.json</td><td>109</td><td>1724105506000</td></tr><tr><td>dbfs:/mnt/124a514b9149-bucket/topics/124a514b9149.geo/partition=0/124a514b9149.geo+0+0000000013.json</td><td>124a514b9149.geo+0+0000000013.json</td><td>109</td><td>1724105508000</td></tr><tr><td>dbfs:/mnt/124a514b9149-bucket/topics/124a514b9149.geo/partition=0/124a514b9149.geo+0+0000000014.json</td><td>124a514b9149.geo+0+0000000014.json</td><td>106</td><td>1724105511000</td></tr><tr><td>dbfs:/mnt/124a514b9149-bucket/topics/124a514b9149.geo/partition=0/124a514b9149.geo+0+0000000015.json</td><td>124a514b9149.geo+0+0000000015.json</td><td>111</td><td>1724105513000</td></tr><tr><td>dbfs:/mnt/124a514b9149-bucket/topics/124a514b9149.geo/partition=0/124a514b9149.geo+0+0000000016.json</td><td>124a514b9149.geo+0+0000000016.json</td><td>109</td><td>1724105514000</td></tr><tr><td>dbfs:/mnt/124a514b9149-bucket/topics/124a514b9149.geo/partition=0/124a514b9149.geo+0+0000000017.json</td><td>124a514b9149.geo+0+0000000017.json</td><td>107</td><td>1724105516000</td></tr><tr><td>dbfs:/mnt/124a514b9149-bucket/topics/124a514b9149.geo/partition=0/124a514b9149.geo+0+0000000018.json</td><td>124a514b9149.geo+0+0000000018.json</td><td>109</td><td>1724105517000</td></tr><tr><td>dbfs:/mnt/124a514b9149-bucket/topics/124a514b9149.geo/partition=0/124a514b9149.geo+0+0000000019.json</td><td>124a514b9149.geo+0+0000000019.json</td><td>145</td><td>1724105519000</td></tr><tr><td>dbfs:/mnt/124a514b9149-bucket/topics/124a514b9149.geo/partition=0/124a514b9149.geo+0+0000000020.json</td><td>124a514b9149.geo+0+0000000020.json</td><td>107</td><td>1724105520000</td></tr><tr><td>dbfs:/mnt/124a514b9149-bucket/topics/124a514b9149.geo/partition=0/124a514b9149.geo+0+0000000021.json</td><td>124a514b9149.geo+0+0000000021.json</td><td>110</td><td>1724105522000</td></tr><tr><td>dbfs:/mnt/124a514b9149-bucket/topics/124a514b9149.geo/partition=0/124a514b9149.geo+0+0000000022.json</td><td>124a514b9149.geo+0+0000000022.json</td><td>110</td><td>1724105523000</td></tr><tr><td>dbfs:/mnt/124a514b9149-bucket/topics/124a514b9149.geo/partition=0/124a514b9149.geo+0+0000000023.json</td><td>124a514b9149.geo+0+0000000023.json</td><td>123</td><td>1724105525000</td></tr><tr><td>dbfs:/mnt/124a514b9149-bucket/topics/124a514b9149.geo/partition=0/124a514b9149.geo+0+0000000024.json</td><td>124a514b9149.geo+0+0000000024.json</td><td>118</td><td>1724105526000</td></tr><tr><td>dbfs:/mnt/124a514b9149-bucket/topics/124a514b9149.geo/partition=0/124a514b9149.geo+0+0000000025.json</td><td>124a514b9149.geo+0+0000000025.json</td><td>108</td><td>1724105528000</td></tr><tr><td>dbfs:/mnt/124a514b9149-bucket/topics/124a514b9149.geo/partition=0/124a514b9149.geo+0+0000000026.json</td><td>124a514b9149.geo+0+0000000026.json</td><td>105</td><td>1724105530000</td></tr><tr><td>dbfs:/mnt/124a514b9149-bucket/topics/124a514b9149.geo/partition=0/124a514b9149.geo+0+0000000027.json</td><td>124a514b9149.geo+0+0000000027.json</td><td>110</td><td>1724105532000</td></tr><tr><td>dbfs:/mnt/124a514b9149-bucket/topics/124a514b9149.geo/partition=0/124a514b9149.geo+0+0000000028.json</td><td>124a514b9149.geo+0+0000000028.json</td><td>109</td><td>1724105535000</td></tr><tr><td>dbfs:/mnt/124a514b9149-bucket/topics/124a514b9149.geo/partition=0/124a514b9149.geo+0+0000000029.json</td><td>124a514b9149.geo+0+0000000029.json</td><td>120</td><td>1724105537000</td></tr><tr><td>dbfs:/mnt/124a514b9149-bucket/topics/124a514b9149.geo/partition=0/124a514b9149.geo+0+0000000030.json</td><td>124a514b9149.geo+0+0000000030.json</td><td>104</td><td>1724105539000</td></tr><tr><td>dbfs:/mnt/124a514b9149-bucket/topics/124a514b9149.geo/partition=0/124a514b9149.geo+0+0000000031.json</td><td>124a514b9149.geo+0+0000000031.json</td><td>106</td><td>1724105540000</td></tr><tr><td>dbfs:/mnt/124a514b9149-bucket/topics/124a514b9149.geo/partition=0/124a514b9149.geo+0+0000000032.json</td><td>124a514b9149.geo+0+0000000032.json</td><td>109</td><td>1724105543000</td></tr><tr><td>dbfs:/mnt/124a514b9149-bucket/topics/124a514b9149.geo/partition=0/124a514b9149.geo+0+0000000033.json</td><td>124a514b9149.geo+0+0000000033.json</td><td>106</td><td>1724105544000</td></tr><tr><td>dbfs:/mnt/124a514b9149-bucket/topics/124a514b9149.geo/partition=0/124a514b9149.geo+0+0000000034.json</td><td>124a514b9149.geo+0+0000000034.json</td><td>108</td><td>1724105546000</td></tr><tr><td>dbfs:/mnt/124a514b9149-bucket/topics/124a514b9149.geo/partition=0/124a514b9149.geo+0+0000000035.json</td><td>124a514b9149.geo+0+0000000035.json</td><td>108</td><td>1724105549000</td></tr><tr><td>dbfs:/mnt/124a514b9149-bucket/topics/124a514b9149.geo/partition=0/124a514b9149.geo+0+0000000036.json</td><td>124a514b9149.geo+0+0000000036.json</td><td>108</td><td>1724105550000</td></tr><tr><td>dbfs:/mnt/124a514b9149-bucket/topics/124a514b9149.geo/partition=0/124a514b9149.geo+0+0000000037.json</td><td>124a514b9149.geo+0+0000000037.json</td><td>104</td><td>1724105552000</td></tr><tr><td>dbfs:/mnt/124a514b9149-bucket/topics/124a514b9149.geo/partition=0/124a514b9149.geo+0+0000000038.json</td><td>124a514b9149.geo+0+0000000038.json</td><td>111</td><td>1724105553000</td></tr><tr><td>dbfs:/mnt/124a514b9149-bucket/topics/124a514b9149.geo/partition=0/124a514b9149.geo+0+0000000039.json</td><td>124a514b9149.geo+0+0000000039.json</td><td>105</td><td>1724105555000</td></tr><tr><td>dbfs:/mnt/124a514b9149-bucket/topics/124a514b9149.geo/partition=0/124a514b9149.geo+0+0000000040.json</td><td>124a514b9149.geo+0+0000000040.json</td><td>108</td><td>1724105556000</td></tr><tr><td>dbfs:/mnt/124a514b9149-bucket/topics/124a514b9149.geo/partition=0/124a514b9149.geo+0+0000000041.json</td><td>124a514b9149.geo+0+0000000041.json</td><td>122</td><td>1724105557000</td></tr><tr><td>dbfs:/mnt/124a514b9149-bucket/topics/124a514b9149.geo/partition=0/124a514b9149.geo+0+0000000042.json</td><td>124a514b9149.geo+0+0000000042.json</td><td>110</td><td>1724105560000</td></tr><tr><td>dbfs:/mnt/124a514b9149-bucket/topics/124a514b9149.geo/partition=0/124a514b9149.geo+0+0000000043.json</td><td>124a514b9149.geo+0+0000000043.json</td><td>108</td><td>1724105562000</td></tr><tr><td>dbfs:/mnt/124a514b9149-bucket/topics/124a514b9149.geo/partition=0/124a514b9149.geo+0+0000000044.json</td><td>124a514b9149.geo+0+0000000044.json</td><td>115</td><td>1724105563000</td></tr><tr><td>dbfs:/mnt/124a514b9149-bucket/topics/124a514b9149.geo/partition=0/124a514b9149.geo+0+0000000045.json</td><td>124a514b9149.geo+0+0000000045.json</td><td>120</td><td>1724105564000</td></tr><tr><td>dbfs:/mnt/124a514b9149-bucket/topics/124a514b9149.geo/partition=0/124a514b9149.geo+0+0000000046.json</td><td>124a514b9149.geo+0+0000000046.json</td><td>115</td><td>1724105566000</td></tr><tr><td>dbfs:/mnt/124a514b9149-bucket/topics/124a514b9149.geo/partition=0/124a514b9149.geo+0+0000000047.json</td><td>124a514b9149.geo+0+0000000047.json</td><td>107</td><td>1724105567000</td></tr><tr><td>dbfs:/mnt/124a514b9149-bucket/topics/124a514b9149.geo/partition=0/124a514b9149.geo+0+0000000048.json</td><td>124a514b9149.geo+0+0000000048.json</td><td>117</td><td>1724105569000</td></tr><tr><td>dbfs:/mnt/124a514b9149-bucket/topics/124a514b9149.geo/partition=0/124a514b9149.geo+0+0000000049.json</td><td>124a514b9149.geo+0+0000000049.json</td><td>107</td><td>1724105572000</td></tr><tr><td>dbfs:/mnt/124a514b9149-bucket/topics/124a514b9149.geo/partition=0/124a514b9149.geo+0+0000000050.json</td><td>124a514b9149.geo+0+0000000050.json</td><td>110</td><td>1724105574000</td></tr><tr><td>dbfs:/mnt/124a514b9149-bucket/topics/124a514b9149.geo/partition=0/124a514b9149.geo+0+0000000051.json</td><td>124a514b9149.geo+0+0000000051.json</td><td>110</td><td>1724105575000</td></tr><tr><td>dbfs:/mnt/124a514b9149-bucket/topics/124a514b9149.geo/partition=0/124a514b9149.geo+0+0000000052.json</td><td>124a514b9149.geo+0+0000000052.json</td><td>107</td><td>1724105576000</td></tr><tr><td>dbfs:/mnt/124a514b9149-bucket/topics/124a514b9149.geo/partition=0/124a514b9149.geo+0+0000000053.json</td><td>124a514b9149.geo+0+0000000053.json</td><td>110</td><td>1724105579000</td></tr><tr><td>dbfs:/mnt/124a514b9149-bucket/topics/124a514b9149.geo/partition=0/124a514b9149.geo+0+0000000054.json</td><td>124a514b9149.geo+0+0000000054.json</td><td>110</td><td>1724105580000</td></tr><tr><td>dbfs:/mnt/124a514b9149-bucket/topics/124a514b9149.geo/partition=0/124a514b9149.geo+0+0000000055.json</td><td>124a514b9149.geo+0+0000000055.json</td><td>107</td><td>1724105582000</td></tr><tr><td>dbfs:/mnt/124a514b9149-bucket/topics/124a514b9149.geo/partition=0/124a514b9149.geo+0+0000000056.json</td><td>124a514b9149.geo+0+0000000056.json</td><td>123</td><td>1724105583000</td></tr><tr><td>dbfs:/mnt/124a514b9149-bucket/topics/124a514b9149.geo/partition=0/124a514b9149.geo+0+0000000057.json</td><td>124a514b9149.geo+0+0000000057.json</td><td>110</td><td>1724105584000</td></tr><tr><td>dbfs:/mnt/124a514b9149-bucket/topics/124a514b9149.geo/partition=0/124a514b9149.geo+0+0000000058.json</td><td>124a514b9149.geo+0+0000000058.json</td><td>107</td><td>1724105585000</td></tr><tr><td>dbfs:/mnt/124a514b9149-bucket/topics/124a514b9149.geo/partition=0/124a514b9149.geo+0+0000000059.json</td><td>124a514b9149.geo+0+0000000059.json</td><td>108</td><td>1724105588000</td></tr><tr><td>dbfs:/mnt/124a514b9149-bucket/topics/124a514b9149.geo/partition=0/124a514b9149.geo+0+0000000060.json</td><td>124a514b9149.geo+0+0000000060.json</td><td>119</td><td>1724105590000</td></tr><tr><td>dbfs:/mnt/124a514b9149-bucket/topics/124a514b9149.geo/partition=0/124a514b9149.geo+0+0000000061.json</td><td>124a514b9149.geo+0+0000000061.json</td><td>107</td><td>1724105592000</td></tr><tr><td>dbfs:/mnt/124a514b9149-bucket/topics/124a514b9149.geo/partition=0/124a514b9149.geo+0+0000000062.json</td><td>124a514b9149.geo+0+0000000062.json</td><td>108</td><td>1724105594000</td></tr><tr><td>dbfs:/mnt/124a514b9149-bucket/topics/124a514b9149.geo/partition=0/124a514b9149.geo+0+0000000063.json</td><td>124a514b9149.geo+0+0000000063.json</td><td>113</td><td>1724105597000</td></tr><tr><td>dbfs:/mnt/124a514b9149-bucket/topics/124a514b9149.geo/partition=0/124a514b9149.geo+0+0000000064.json</td><td>124a514b9149.geo+0+0000000064.json</td><td>110</td><td>1724105598000</td></tr><tr><td>dbfs:/mnt/124a514b9149-bucket/topics/124a514b9149.geo/partition=0/124a514b9149.geo+0+0000000065.json</td><td>124a514b9149.geo+0+0000000065.json</td><td>113</td><td>1724105600000</td></tr><tr><td>dbfs:/mnt/124a514b9149-bucket/topics/124a514b9149.geo/partition=0/124a514b9149.geo+0+0000000066.json</td><td>124a514b9149.geo+0+0000000066.json</td><td>106</td><td>1724105601000</td></tr><tr><td>dbfs:/mnt/124a514b9149-bucket/topics/124a514b9149.geo/partition=0/124a514b9149.geo+0+0000000067.json</td><td>124a514b9149.geo+0+0000000067.json</td><td>109</td><td>1724105604000</td></tr><tr><td>dbfs:/mnt/124a514b9149-bucket/topics/124a514b9149.geo/partition=0/124a514b9149.geo+0+0000000068.json</td><td>124a514b9149.geo+0+0000000068.json</td><td>110</td><td>1724105606000</td></tr><tr><td>dbfs:/mnt/124a514b9149-bucket/topics/124a514b9149.geo/partition=0/124a514b9149.geo+0+0000000069.json</td><td>124a514b9149.geo+0+0000000069.json</td><td>106</td><td>1724105608000</td></tr><tr><td>dbfs:/mnt/124a514b9149-bucket/topics/124a514b9149.geo/partition=0/124a514b9149.geo+0+0000000070.json</td><td>124a514b9149.geo+0+0000000070.json</td><td>107</td><td>1724105610000</td></tr><tr><td>dbfs:/mnt/124a514b9149-bucket/topics/124a514b9149.geo/partition=0/124a514b9149.geo+0+0000000071.json</td><td>124a514b9149.geo+0+0000000071.json</td><td>108</td><td>1724105611000</td></tr><tr><td>dbfs:/mnt/124a514b9149-bucket/topics/124a514b9149.geo/partition=0/124a514b9149.geo+0+0000000072.json</td><td>124a514b9149.geo+0+0000000072.json</td><td>108</td><td>1724105613000</td></tr><tr><td>dbfs:/mnt/124a514b9149-bucket/topics/124a514b9149.geo/partition=0/124a514b9149.geo+0+0000000073.json</td><td>124a514b9149.geo+0+0000000073.json</td><td>111</td><td>1724105615000</td></tr><tr><td>dbfs:/mnt/124a514b9149-bucket/topics/124a514b9149.geo/partition=0/124a514b9149.geo+0+0000000074.json</td><td>124a514b9149.geo+0+0000000074.json</td><td>111</td><td>1724105617000</td></tr><tr><td>dbfs:/mnt/124a514b9149-bucket/topics/124a514b9149.geo/partition=0/124a514b9149.geo+0+0000000075.json</td><td>124a514b9149.geo+0+0000000075.json</td><td>105</td><td>1724105619000</td></tr><tr><td>dbfs:/mnt/124a514b9149-bucket/topics/124a514b9149.geo/partition=0/124a514b9149.geo+0+0000000076.json</td><td>124a514b9149.geo+0+0000000076.json</td><td>107</td><td>1724105621000</td></tr><tr><td>dbfs:/mnt/124a514b9149-bucket/topics/124a514b9149.geo/partition=0/124a514b9149.geo+0+0000000077.json</td><td>124a514b9149.geo+0+0000000077.json</td><td>112</td><td>1724105623000</td></tr><tr><td>dbfs:/mnt/124a514b9149-bucket/topics/124a514b9149.geo/partition=0/124a514b9149.geo+0+0000000078.json</td><td>124a514b9149.geo+0+0000000078.json</td><td>108</td><td>1724105625000</td></tr><tr><td>dbfs:/mnt/124a514b9149-bucket/topics/124a514b9149.geo/partition=0/124a514b9149.geo+0+0000000079.json</td><td>124a514b9149.geo+0+0000000079.json</td><td>115</td><td>1724105626000</td></tr><tr><td>dbfs:/mnt/124a514b9149-bucket/topics/124a514b9149.geo/partition=0/124a514b9149.geo+0+0000000080.json</td><td>124a514b9149.geo+0+0000000080.json</td><td>109</td><td>1724105628000</td></tr><tr><td>dbfs:/mnt/124a514b9149-bucket/topics/124a514b9149.geo/partition=0/124a514b9149.geo+0+0000000081.json</td><td>124a514b9149.geo+0+0000000081.json</td><td>106</td><td>1724105631000</td></tr><tr><td>dbfs:/mnt/124a514b9149-bucket/topics/124a514b9149.geo/partition=0/124a514b9149.geo+0+0000000082.json</td><td>124a514b9149.geo+0+0000000082.json</td><td>108</td><td>1724105632000</td></tr><tr><td>dbfs:/mnt/124a514b9149-bucket/topics/124a514b9149.geo/partition=0/124a514b9149.geo+0+0000000083.json</td><td>124a514b9149.geo+0+0000000083.json</td><td>118</td><td>1724105633000</td></tr><tr><td>dbfs:/mnt/124a514b9149-bucket/topics/124a514b9149.geo/partition=0/124a514b9149.geo+0+0000000084.json</td><td>124a514b9149.geo+0+0000000084.json</td><td>108</td><td>1724105635000</td></tr><tr><td>dbfs:/mnt/124a514b9149-bucket/topics/124a514b9149.geo/partition=0/124a514b9149.geo+0+0000000085.json</td><td>124a514b9149.geo+0+0000000085.json</td><td>120</td><td>1724105637000</td></tr><tr><td>dbfs:/mnt/124a514b9149-bucket/topics/124a514b9149.geo/partition=0/124a514b9149.geo+0+0000000086.json</td><td>124a514b9149.geo+0+0000000086.json</td><td>110</td><td>1724105638000</td></tr><tr><td>dbfs:/mnt/124a514b9149-bucket/topics/124a514b9149.geo/partition=0/124a514b9149.geo+0+0000000087.json</td><td>124a514b9149.geo+0+0000000087.json</td><td>115</td><td>1724105640000</td></tr><tr><td>dbfs:/mnt/124a514b9149-bucket/topics/124a514b9149.geo/partition=0/124a514b9149.geo+0+0000000088.json</td><td>124a514b9149.geo+0+0000000088.json</td><td>110</td><td>1724105643000</td></tr><tr><td>dbfs:/mnt/124a514b9149-bucket/topics/124a514b9149.geo/partition=0/124a514b9149.geo+0+0000000089.json</td><td>124a514b9149.geo+0+0000000089.json</td><td>117</td><td>1724105645000</td></tr><tr><td>dbfs:/mnt/124a514b9149-bucket/topics/124a514b9149.geo/partition=0/124a514b9149.geo+0+0000000090.json</td><td>124a514b9149.geo+0+0000000090.json</td><td>116</td><td>1724105647000</td></tr><tr><td>dbfs:/mnt/124a514b9149-bucket/topics/124a514b9149.geo/partition=0/124a514b9149.geo+0+0000000091.json</td><td>124a514b9149.geo+0+0000000091.json</td><td>106</td><td>1724105648000</td></tr><tr><td>dbfs:/mnt/124a514b9149-bucket/topics/124a514b9149.geo/partition=0/124a514b9149.geo+0+0000000092.json</td><td>124a514b9149.geo+0+0000000092.json</td><td>106</td><td>1724105651000</td></tr><tr><td>dbfs:/mnt/124a514b9149-bucket/topics/124a514b9149.geo/partition=0/124a514b9149.geo+0+0000000093.json</td><td>124a514b9149.geo+0+0000000093.json</td><td>108</td><td>1724105653000</td></tr><tr><td>dbfs:/mnt/124a514b9149-bucket/topics/124a514b9149.geo/partition=0/124a514b9149.geo+0+0000000094.json</td><td>124a514b9149.geo+0+0000000094.json</td><td>107</td><td>1724105654000</td></tr><tr><td>dbfs:/mnt/124a514b9149-bucket/topics/124a514b9149.geo/partition=0/124a514b9149.geo+0+0000000095.json</td><td>124a514b9149.geo+0+0000000095.json</td><td>110</td><td>1724105655000</td></tr><tr><td>dbfs:/mnt/124a514b9149-bucket/topics/124a514b9149.geo/partition=0/124a514b9149.geo+0+0000000096.json</td><td>124a514b9149.geo+0+0000000096.json</td><td>118</td><td>1724105658000</td></tr><tr><td>dbfs:/mnt/124a514b9149-bucket/topics/124a514b9149.geo/partition=0/124a514b9149.geo+0+0000000097.json</td><td>124a514b9149.geo+0+0000000097.json</td><td>107</td><td>1724105659000</td></tr><tr><td>dbfs:/mnt/124a514b9149-bucket/topics/124a514b9149.geo/partition=0/124a514b9149.geo+0+0000000098.json</td><td>124a514b9149.geo+0+0000000098.json</td><td>105</td><td>1724105660000</td></tr><tr><td>dbfs:/mnt/124a514b9149-bucket/topics/124a514b9149.geo/partition=0/124a514b9149.geo+0+0000000099.json</td><td>124a514b9149.geo+0+0000000099.json</td><td>106</td><td>1724105663000</td></tr><tr><td>dbfs:/mnt/124a514b9149-bucket/topics/124a514b9149.geo/partition=0/124a514b9149.geo+0+0000000100.json</td><td>124a514b9149.geo+0+0000000100.json</td><td>111</td><td>1724105665000</td></tr><tr><td>dbfs:/mnt/124a514b9149-bucket/topics/124a514b9149.geo/partition=0/124a514b9149.geo+0+0000000101.json</td><td>124a514b9149.geo+0+0000000101.json</td><td>109</td><td>1724105666000</td></tr><tr><td>dbfs:/mnt/124a514b9149-bucket/topics/124a514b9149.geo/partition=0/124a514b9149.geo+0+0000000102.json</td><td>124a514b9149.geo+0+0000000102.json</td><td>108</td><td>1724105667000</td></tr><tr><td>dbfs:/mnt/124a514b9149-bucket/topics/124a514b9149.geo/partition=0/124a514b9149.geo+0+0000000103.json</td><td>124a514b9149.geo+0+0000000103.json</td><td>108</td><td>1724189281000</td></tr><tr><td>dbfs:/mnt/124a514b9149-bucket/topics/124a514b9149.geo/partition=0/124a514b9149.geo+0+0000000104.json</td><td>124a514b9149.geo+0+0000000104.json</td><td>108</td><td>1724189283000</td></tr><tr><td>dbfs:/mnt/124a514b9149-bucket/topics/124a514b9149.geo/partition=0/124a514b9149.geo+0+0000000105.json</td><td>124a514b9149.geo+0+0000000105.json</td><td>108</td><td>1724189286000</td></tr><tr><td>dbfs:/mnt/124a514b9149-bucket/topics/124a514b9149.geo/partition=0/124a514b9149.geo+0+0000000106.json</td><td>124a514b9149.geo+0+0000000106.json</td><td>113</td><td>1724189288000</td></tr><tr><td>dbfs:/mnt/124a514b9149-bucket/topics/124a514b9149.geo/partition=0/124a514b9149.geo+0+0000000107.json</td><td>124a514b9149.geo+0+0000000107.json</td><td>105</td><td>1724189289000</td></tr><tr><td>dbfs:/mnt/124a514b9149-bucket/topics/124a514b9149.geo/partition=0/124a514b9149.geo+0+0000000108.json</td><td>124a514b9149.geo+0+0000000108.json</td><td>107</td><td>1724189290000</td></tr><tr><td>dbfs:/mnt/124a514b9149-bucket/topics/124a514b9149.geo/partition=0/124a514b9149.geo+0+0000000109.json</td><td>124a514b9149.geo+0+0000000109.json</td><td>113</td><td>1724189293000</td></tr><tr><td>dbfs:/mnt/124a514b9149-bucket/topics/124a514b9149.geo/partition=0/124a514b9149.geo+0+0000000110.json</td><td>124a514b9149.geo+0+0000000110.json</td><td>125</td><td>1724189294000</td></tr></tbody></table></div>"
      ]
     },
     "metadata": {
      "application/vnd.databricks.v1+output": {
       "addedWidgets": {},
       "aggData": [],
       "aggError": "",
       "aggOverflow": false,
       "aggSchema": [],
       "aggSeriesLimitReached": false,
       "aggType": "",
       "arguments": {},
       "columnCustomDisplayInfos": {},
       "data": [
        [
         "dbfs:/mnt/124a514b9149-bucket/topics/124a514b9149.geo/partition=0/124a514b9149.geo+0+0000000000.json",
         "124a514b9149.geo+0+0000000000.json",
         108,
         1724105486000
        ],
        [
         "dbfs:/mnt/124a514b9149-bucket/topics/124a514b9149.geo/partition=0/124a514b9149.geo+0+0000000001.json",
         "124a514b9149.geo+0+0000000001.json",
         108,
         1724105488000
        ],
        [
         "dbfs:/mnt/124a514b9149-bucket/topics/124a514b9149.geo/partition=0/124a514b9149.geo+0+0000000002.json",
         "124a514b9149.geo+0+0000000002.json",
         108,
         1724105490000
        ],
        [
         "dbfs:/mnt/124a514b9149-bucket/topics/124a514b9149.geo/partition=0/124a514b9149.geo+0+0000000003.json",
         "124a514b9149.geo+0+0000000003.json",
         113,
         1724105493000
        ],
        [
         "dbfs:/mnt/124a514b9149-bucket/topics/124a514b9149.geo/partition=0/124a514b9149.geo+0+0000000004.json",
         "124a514b9149.geo+0+0000000004.json",
         105,
         1724105494000
        ],
        [
         "dbfs:/mnt/124a514b9149-bucket/topics/124a514b9149.geo/partition=0/124a514b9149.geo+0+0000000005.json",
         "124a514b9149.geo+0+0000000005.json",
         107,
         1724105495000
        ],
        [
         "dbfs:/mnt/124a514b9149-bucket/topics/124a514b9149.geo/partition=0/124a514b9149.geo+0+0000000006.json",
         "124a514b9149.geo+0+0000000006.json",
         113,
         1724105497000
        ],
        [
         "dbfs:/mnt/124a514b9149-bucket/topics/124a514b9149.geo/partition=0/124a514b9149.geo+0+0000000007.json",
         "124a514b9149.geo+0+0000000007.json",
         125,
         1724105499000
        ],
        [
         "dbfs:/mnt/124a514b9149-bucket/topics/124a514b9149.geo/partition=0/124a514b9149.geo+0+0000000008.json",
         "124a514b9149.geo+0+0000000008.json",
         109,
         1724105500000
        ],
        [
         "dbfs:/mnt/124a514b9149-bucket/topics/124a514b9149.geo/partition=0/124a514b9149.geo+0+0000000009.json",
         "124a514b9149.geo+0+0000000009.json",
         111,
         1724105501000
        ],
        [
         "dbfs:/mnt/124a514b9149-bucket/topics/124a514b9149.geo/partition=0/124a514b9149.geo+0+0000000010.json",
         "124a514b9149.geo+0+0000000010.json",
         114,
         1724105503000
        ],
        [
         "dbfs:/mnt/124a514b9149-bucket/topics/124a514b9149.geo/partition=0/124a514b9149.geo+0+0000000011.json",
         "124a514b9149.geo+0+0000000011.json",
         108,
         1724105504000
        ],
        [
         "dbfs:/mnt/124a514b9149-bucket/topics/124a514b9149.geo/partition=0/124a514b9149.geo+0+0000000012.json",
         "124a514b9149.geo+0+0000000012.json",
         109,
         1724105506000
        ],
        [
         "dbfs:/mnt/124a514b9149-bucket/topics/124a514b9149.geo/partition=0/124a514b9149.geo+0+0000000013.json",
         "124a514b9149.geo+0+0000000013.json",
         109,
         1724105508000
        ],
        [
         "dbfs:/mnt/124a514b9149-bucket/topics/124a514b9149.geo/partition=0/124a514b9149.geo+0+0000000014.json",
         "124a514b9149.geo+0+0000000014.json",
         106,
         1724105511000
        ],
        [
         "dbfs:/mnt/124a514b9149-bucket/topics/124a514b9149.geo/partition=0/124a514b9149.geo+0+0000000015.json",
         "124a514b9149.geo+0+0000000015.json",
         111,
         1724105513000
        ],
        [
         "dbfs:/mnt/124a514b9149-bucket/topics/124a514b9149.geo/partition=0/124a514b9149.geo+0+0000000016.json",
         "124a514b9149.geo+0+0000000016.json",
         109,
         1724105514000
        ],
        [
         "dbfs:/mnt/124a514b9149-bucket/topics/124a514b9149.geo/partition=0/124a514b9149.geo+0+0000000017.json",
         "124a514b9149.geo+0+0000000017.json",
         107,
         1724105516000
        ],
        [
         "dbfs:/mnt/124a514b9149-bucket/topics/124a514b9149.geo/partition=0/124a514b9149.geo+0+0000000018.json",
         "124a514b9149.geo+0+0000000018.json",
         109,
         1724105517000
        ],
        [
         "dbfs:/mnt/124a514b9149-bucket/topics/124a514b9149.geo/partition=0/124a514b9149.geo+0+0000000019.json",
         "124a514b9149.geo+0+0000000019.json",
         145,
         1724105519000
        ],
        [
         "dbfs:/mnt/124a514b9149-bucket/topics/124a514b9149.geo/partition=0/124a514b9149.geo+0+0000000020.json",
         "124a514b9149.geo+0+0000000020.json",
         107,
         1724105520000
        ],
        [
         "dbfs:/mnt/124a514b9149-bucket/topics/124a514b9149.geo/partition=0/124a514b9149.geo+0+0000000021.json",
         "124a514b9149.geo+0+0000000021.json",
         110,
         1724105522000
        ],
        [
         "dbfs:/mnt/124a514b9149-bucket/topics/124a514b9149.geo/partition=0/124a514b9149.geo+0+0000000022.json",
         "124a514b9149.geo+0+0000000022.json",
         110,
         1724105523000
        ],
        [
         "dbfs:/mnt/124a514b9149-bucket/topics/124a514b9149.geo/partition=0/124a514b9149.geo+0+0000000023.json",
         "124a514b9149.geo+0+0000000023.json",
         123,
         1724105525000
        ],
        [
         "dbfs:/mnt/124a514b9149-bucket/topics/124a514b9149.geo/partition=0/124a514b9149.geo+0+0000000024.json",
         "124a514b9149.geo+0+0000000024.json",
         118,
         1724105526000
        ],
        [
         "dbfs:/mnt/124a514b9149-bucket/topics/124a514b9149.geo/partition=0/124a514b9149.geo+0+0000000025.json",
         "124a514b9149.geo+0+0000000025.json",
         108,
         1724105528000
        ],
        [
         "dbfs:/mnt/124a514b9149-bucket/topics/124a514b9149.geo/partition=0/124a514b9149.geo+0+0000000026.json",
         "124a514b9149.geo+0+0000000026.json",
         105,
         1724105530000
        ],
        [
         "dbfs:/mnt/124a514b9149-bucket/topics/124a514b9149.geo/partition=0/124a514b9149.geo+0+0000000027.json",
         "124a514b9149.geo+0+0000000027.json",
         110,
         1724105532000
        ],
        [
         "dbfs:/mnt/124a514b9149-bucket/topics/124a514b9149.geo/partition=0/124a514b9149.geo+0+0000000028.json",
         "124a514b9149.geo+0+0000000028.json",
         109,
         1724105535000
        ],
        [
         "dbfs:/mnt/124a514b9149-bucket/topics/124a514b9149.geo/partition=0/124a514b9149.geo+0+0000000029.json",
         "124a514b9149.geo+0+0000000029.json",
         120,
         1724105537000
        ],
        [
         "dbfs:/mnt/124a514b9149-bucket/topics/124a514b9149.geo/partition=0/124a514b9149.geo+0+0000000030.json",
         "124a514b9149.geo+0+0000000030.json",
         104,
         1724105539000
        ],
        [
         "dbfs:/mnt/124a514b9149-bucket/topics/124a514b9149.geo/partition=0/124a514b9149.geo+0+0000000031.json",
         "124a514b9149.geo+0+0000000031.json",
         106,
         1724105540000
        ],
        [
         "dbfs:/mnt/124a514b9149-bucket/topics/124a514b9149.geo/partition=0/124a514b9149.geo+0+0000000032.json",
         "124a514b9149.geo+0+0000000032.json",
         109,
         1724105543000
        ],
        [
         "dbfs:/mnt/124a514b9149-bucket/topics/124a514b9149.geo/partition=0/124a514b9149.geo+0+0000000033.json",
         "124a514b9149.geo+0+0000000033.json",
         106,
         1724105544000
        ],
        [
         "dbfs:/mnt/124a514b9149-bucket/topics/124a514b9149.geo/partition=0/124a514b9149.geo+0+0000000034.json",
         "124a514b9149.geo+0+0000000034.json",
         108,
         1724105546000
        ],
        [
         "dbfs:/mnt/124a514b9149-bucket/topics/124a514b9149.geo/partition=0/124a514b9149.geo+0+0000000035.json",
         "124a514b9149.geo+0+0000000035.json",
         108,
         1724105549000
        ],
        [
         "dbfs:/mnt/124a514b9149-bucket/topics/124a514b9149.geo/partition=0/124a514b9149.geo+0+0000000036.json",
         "124a514b9149.geo+0+0000000036.json",
         108,
         1724105550000
        ],
        [
         "dbfs:/mnt/124a514b9149-bucket/topics/124a514b9149.geo/partition=0/124a514b9149.geo+0+0000000037.json",
         "124a514b9149.geo+0+0000000037.json",
         104,
         1724105552000
        ],
        [
         "dbfs:/mnt/124a514b9149-bucket/topics/124a514b9149.geo/partition=0/124a514b9149.geo+0+0000000038.json",
         "124a514b9149.geo+0+0000000038.json",
         111,
         1724105553000
        ],
        [
         "dbfs:/mnt/124a514b9149-bucket/topics/124a514b9149.geo/partition=0/124a514b9149.geo+0+0000000039.json",
         "124a514b9149.geo+0+0000000039.json",
         105,
         1724105555000
        ],
        [
         "dbfs:/mnt/124a514b9149-bucket/topics/124a514b9149.geo/partition=0/124a514b9149.geo+0+0000000040.json",
         "124a514b9149.geo+0+0000000040.json",
         108,
         1724105556000
        ],
        [
         "dbfs:/mnt/124a514b9149-bucket/topics/124a514b9149.geo/partition=0/124a514b9149.geo+0+0000000041.json",
         "124a514b9149.geo+0+0000000041.json",
         122,
         1724105557000
        ],
        [
         "dbfs:/mnt/124a514b9149-bucket/topics/124a514b9149.geo/partition=0/124a514b9149.geo+0+0000000042.json",
         "124a514b9149.geo+0+0000000042.json",
         110,
         1724105560000
        ],
        [
         "dbfs:/mnt/124a514b9149-bucket/topics/124a514b9149.geo/partition=0/124a514b9149.geo+0+0000000043.json",
         "124a514b9149.geo+0+0000000043.json",
         108,
         1724105562000
        ],
        [
         "dbfs:/mnt/124a514b9149-bucket/topics/124a514b9149.geo/partition=0/124a514b9149.geo+0+0000000044.json",
         "124a514b9149.geo+0+0000000044.json",
         115,
         1724105563000
        ],
        [
         "dbfs:/mnt/124a514b9149-bucket/topics/124a514b9149.geo/partition=0/124a514b9149.geo+0+0000000045.json",
         "124a514b9149.geo+0+0000000045.json",
         120,
         1724105564000
        ],
        [
         "dbfs:/mnt/124a514b9149-bucket/topics/124a514b9149.geo/partition=0/124a514b9149.geo+0+0000000046.json",
         "124a514b9149.geo+0+0000000046.json",
         115,
         1724105566000
        ],
        [
         "dbfs:/mnt/124a514b9149-bucket/topics/124a514b9149.geo/partition=0/124a514b9149.geo+0+0000000047.json",
         "124a514b9149.geo+0+0000000047.json",
         107,
         1724105567000
        ],
        [
         "dbfs:/mnt/124a514b9149-bucket/topics/124a514b9149.geo/partition=0/124a514b9149.geo+0+0000000048.json",
         "124a514b9149.geo+0+0000000048.json",
         117,
         1724105569000
        ],
        [
         "dbfs:/mnt/124a514b9149-bucket/topics/124a514b9149.geo/partition=0/124a514b9149.geo+0+0000000049.json",
         "124a514b9149.geo+0+0000000049.json",
         107,
         1724105572000
        ],
        [
         "dbfs:/mnt/124a514b9149-bucket/topics/124a514b9149.geo/partition=0/124a514b9149.geo+0+0000000050.json",
         "124a514b9149.geo+0+0000000050.json",
         110,
         1724105574000
        ],
        [
         "dbfs:/mnt/124a514b9149-bucket/topics/124a514b9149.geo/partition=0/124a514b9149.geo+0+0000000051.json",
         "124a514b9149.geo+0+0000000051.json",
         110,
         1724105575000
        ],
        [
         "dbfs:/mnt/124a514b9149-bucket/topics/124a514b9149.geo/partition=0/124a514b9149.geo+0+0000000052.json",
         "124a514b9149.geo+0+0000000052.json",
         107,
         1724105576000
        ],
        [
         "dbfs:/mnt/124a514b9149-bucket/topics/124a514b9149.geo/partition=0/124a514b9149.geo+0+0000000053.json",
         "124a514b9149.geo+0+0000000053.json",
         110,
         1724105579000
        ],
        [
         "dbfs:/mnt/124a514b9149-bucket/topics/124a514b9149.geo/partition=0/124a514b9149.geo+0+0000000054.json",
         "124a514b9149.geo+0+0000000054.json",
         110,
         1724105580000
        ],
        [
         "dbfs:/mnt/124a514b9149-bucket/topics/124a514b9149.geo/partition=0/124a514b9149.geo+0+0000000055.json",
         "124a514b9149.geo+0+0000000055.json",
         107,
         1724105582000
        ],
        [
         "dbfs:/mnt/124a514b9149-bucket/topics/124a514b9149.geo/partition=0/124a514b9149.geo+0+0000000056.json",
         "124a514b9149.geo+0+0000000056.json",
         123,
         1724105583000
        ],
        [
         "dbfs:/mnt/124a514b9149-bucket/topics/124a514b9149.geo/partition=0/124a514b9149.geo+0+0000000057.json",
         "124a514b9149.geo+0+0000000057.json",
         110,
         1724105584000
        ],
        [
         "dbfs:/mnt/124a514b9149-bucket/topics/124a514b9149.geo/partition=0/124a514b9149.geo+0+0000000058.json",
         "124a514b9149.geo+0+0000000058.json",
         107,
         1724105585000
        ],
        [
         "dbfs:/mnt/124a514b9149-bucket/topics/124a514b9149.geo/partition=0/124a514b9149.geo+0+0000000059.json",
         "124a514b9149.geo+0+0000000059.json",
         108,
         1724105588000
        ],
        [
         "dbfs:/mnt/124a514b9149-bucket/topics/124a514b9149.geo/partition=0/124a514b9149.geo+0+0000000060.json",
         "124a514b9149.geo+0+0000000060.json",
         119,
         1724105590000
        ],
        [
         "dbfs:/mnt/124a514b9149-bucket/topics/124a514b9149.geo/partition=0/124a514b9149.geo+0+0000000061.json",
         "124a514b9149.geo+0+0000000061.json",
         107,
         1724105592000
        ],
        [
         "dbfs:/mnt/124a514b9149-bucket/topics/124a514b9149.geo/partition=0/124a514b9149.geo+0+0000000062.json",
         "124a514b9149.geo+0+0000000062.json",
         108,
         1724105594000
        ],
        [
         "dbfs:/mnt/124a514b9149-bucket/topics/124a514b9149.geo/partition=0/124a514b9149.geo+0+0000000063.json",
         "124a514b9149.geo+0+0000000063.json",
         113,
         1724105597000
        ],
        [
         "dbfs:/mnt/124a514b9149-bucket/topics/124a514b9149.geo/partition=0/124a514b9149.geo+0+0000000064.json",
         "124a514b9149.geo+0+0000000064.json",
         110,
         1724105598000
        ],
        [
         "dbfs:/mnt/124a514b9149-bucket/topics/124a514b9149.geo/partition=0/124a514b9149.geo+0+0000000065.json",
         "124a514b9149.geo+0+0000000065.json",
         113,
         1724105600000
        ],
        [
         "dbfs:/mnt/124a514b9149-bucket/topics/124a514b9149.geo/partition=0/124a514b9149.geo+0+0000000066.json",
         "124a514b9149.geo+0+0000000066.json",
         106,
         1724105601000
        ],
        [
         "dbfs:/mnt/124a514b9149-bucket/topics/124a514b9149.geo/partition=0/124a514b9149.geo+0+0000000067.json",
         "124a514b9149.geo+0+0000000067.json",
         109,
         1724105604000
        ],
        [
         "dbfs:/mnt/124a514b9149-bucket/topics/124a514b9149.geo/partition=0/124a514b9149.geo+0+0000000068.json",
         "124a514b9149.geo+0+0000000068.json",
         110,
         1724105606000
        ],
        [
         "dbfs:/mnt/124a514b9149-bucket/topics/124a514b9149.geo/partition=0/124a514b9149.geo+0+0000000069.json",
         "124a514b9149.geo+0+0000000069.json",
         106,
         1724105608000
        ],
        [
         "dbfs:/mnt/124a514b9149-bucket/topics/124a514b9149.geo/partition=0/124a514b9149.geo+0+0000000070.json",
         "124a514b9149.geo+0+0000000070.json",
         107,
         1724105610000
        ],
        [
         "dbfs:/mnt/124a514b9149-bucket/topics/124a514b9149.geo/partition=0/124a514b9149.geo+0+0000000071.json",
         "124a514b9149.geo+0+0000000071.json",
         108,
         1724105611000
        ],
        [
         "dbfs:/mnt/124a514b9149-bucket/topics/124a514b9149.geo/partition=0/124a514b9149.geo+0+0000000072.json",
         "124a514b9149.geo+0+0000000072.json",
         108,
         1724105613000
        ],
        [
         "dbfs:/mnt/124a514b9149-bucket/topics/124a514b9149.geo/partition=0/124a514b9149.geo+0+0000000073.json",
         "124a514b9149.geo+0+0000000073.json",
         111,
         1724105615000
        ],
        [
         "dbfs:/mnt/124a514b9149-bucket/topics/124a514b9149.geo/partition=0/124a514b9149.geo+0+0000000074.json",
         "124a514b9149.geo+0+0000000074.json",
         111,
         1724105617000
        ],
        [
         "dbfs:/mnt/124a514b9149-bucket/topics/124a514b9149.geo/partition=0/124a514b9149.geo+0+0000000075.json",
         "124a514b9149.geo+0+0000000075.json",
         105,
         1724105619000
        ],
        [
         "dbfs:/mnt/124a514b9149-bucket/topics/124a514b9149.geo/partition=0/124a514b9149.geo+0+0000000076.json",
         "124a514b9149.geo+0+0000000076.json",
         107,
         1724105621000
        ],
        [
         "dbfs:/mnt/124a514b9149-bucket/topics/124a514b9149.geo/partition=0/124a514b9149.geo+0+0000000077.json",
         "124a514b9149.geo+0+0000000077.json",
         112,
         1724105623000
        ],
        [
         "dbfs:/mnt/124a514b9149-bucket/topics/124a514b9149.geo/partition=0/124a514b9149.geo+0+0000000078.json",
         "124a514b9149.geo+0+0000000078.json",
         108,
         1724105625000
        ],
        [
         "dbfs:/mnt/124a514b9149-bucket/topics/124a514b9149.geo/partition=0/124a514b9149.geo+0+0000000079.json",
         "124a514b9149.geo+0+0000000079.json",
         115,
         1724105626000
        ],
        [
         "dbfs:/mnt/124a514b9149-bucket/topics/124a514b9149.geo/partition=0/124a514b9149.geo+0+0000000080.json",
         "124a514b9149.geo+0+0000000080.json",
         109,
         1724105628000
        ],
        [
         "dbfs:/mnt/124a514b9149-bucket/topics/124a514b9149.geo/partition=0/124a514b9149.geo+0+0000000081.json",
         "124a514b9149.geo+0+0000000081.json",
         106,
         1724105631000
        ],
        [
         "dbfs:/mnt/124a514b9149-bucket/topics/124a514b9149.geo/partition=0/124a514b9149.geo+0+0000000082.json",
         "124a514b9149.geo+0+0000000082.json",
         108,
         1724105632000
        ],
        [
         "dbfs:/mnt/124a514b9149-bucket/topics/124a514b9149.geo/partition=0/124a514b9149.geo+0+0000000083.json",
         "124a514b9149.geo+0+0000000083.json",
         118,
         1724105633000
        ],
        [
         "dbfs:/mnt/124a514b9149-bucket/topics/124a514b9149.geo/partition=0/124a514b9149.geo+0+0000000084.json",
         "124a514b9149.geo+0+0000000084.json",
         108,
         1724105635000
        ],
        [
         "dbfs:/mnt/124a514b9149-bucket/topics/124a514b9149.geo/partition=0/124a514b9149.geo+0+0000000085.json",
         "124a514b9149.geo+0+0000000085.json",
         120,
         1724105637000
        ],
        [
         "dbfs:/mnt/124a514b9149-bucket/topics/124a514b9149.geo/partition=0/124a514b9149.geo+0+0000000086.json",
         "124a514b9149.geo+0+0000000086.json",
         110,
         1724105638000
        ],
        [
         "dbfs:/mnt/124a514b9149-bucket/topics/124a514b9149.geo/partition=0/124a514b9149.geo+0+0000000087.json",
         "124a514b9149.geo+0+0000000087.json",
         115,
         1724105640000
        ],
        [
         "dbfs:/mnt/124a514b9149-bucket/topics/124a514b9149.geo/partition=0/124a514b9149.geo+0+0000000088.json",
         "124a514b9149.geo+0+0000000088.json",
         110,
         1724105643000
        ],
        [
         "dbfs:/mnt/124a514b9149-bucket/topics/124a514b9149.geo/partition=0/124a514b9149.geo+0+0000000089.json",
         "124a514b9149.geo+0+0000000089.json",
         117,
         1724105645000
        ],
        [
         "dbfs:/mnt/124a514b9149-bucket/topics/124a514b9149.geo/partition=0/124a514b9149.geo+0+0000000090.json",
         "124a514b9149.geo+0+0000000090.json",
         116,
         1724105647000
        ],
        [
         "dbfs:/mnt/124a514b9149-bucket/topics/124a514b9149.geo/partition=0/124a514b9149.geo+0+0000000091.json",
         "124a514b9149.geo+0+0000000091.json",
         106,
         1724105648000
        ],
        [
         "dbfs:/mnt/124a514b9149-bucket/topics/124a514b9149.geo/partition=0/124a514b9149.geo+0+0000000092.json",
         "124a514b9149.geo+0+0000000092.json",
         106,
         1724105651000
        ],
        [
         "dbfs:/mnt/124a514b9149-bucket/topics/124a514b9149.geo/partition=0/124a514b9149.geo+0+0000000093.json",
         "124a514b9149.geo+0+0000000093.json",
         108,
         1724105653000
        ],
        [
         "dbfs:/mnt/124a514b9149-bucket/topics/124a514b9149.geo/partition=0/124a514b9149.geo+0+0000000094.json",
         "124a514b9149.geo+0+0000000094.json",
         107,
         1724105654000
        ],
        [
         "dbfs:/mnt/124a514b9149-bucket/topics/124a514b9149.geo/partition=0/124a514b9149.geo+0+0000000095.json",
         "124a514b9149.geo+0+0000000095.json",
         110,
         1724105655000
        ],
        [
         "dbfs:/mnt/124a514b9149-bucket/topics/124a514b9149.geo/partition=0/124a514b9149.geo+0+0000000096.json",
         "124a514b9149.geo+0+0000000096.json",
         118,
         1724105658000
        ],
        [
         "dbfs:/mnt/124a514b9149-bucket/topics/124a514b9149.geo/partition=0/124a514b9149.geo+0+0000000097.json",
         "124a514b9149.geo+0+0000000097.json",
         107,
         1724105659000
        ],
        [
         "dbfs:/mnt/124a514b9149-bucket/topics/124a514b9149.geo/partition=0/124a514b9149.geo+0+0000000098.json",
         "124a514b9149.geo+0+0000000098.json",
         105,
         1724105660000
        ],
        [
         "dbfs:/mnt/124a514b9149-bucket/topics/124a514b9149.geo/partition=0/124a514b9149.geo+0+0000000099.json",
         "124a514b9149.geo+0+0000000099.json",
         106,
         1724105663000
        ],
        [
         "dbfs:/mnt/124a514b9149-bucket/topics/124a514b9149.geo/partition=0/124a514b9149.geo+0+0000000100.json",
         "124a514b9149.geo+0+0000000100.json",
         111,
         1724105665000
        ],
        [
         "dbfs:/mnt/124a514b9149-bucket/topics/124a514b9149.geo/partition=0/124a514b9149.geo+0+0000000101.json",
         "124a514b9149.geo+0+0000000101.json",
         109,
         1724105666000
        ],
        [
         "dbfs:/mnt/124a514b9149-bucket/topics/124a514b9149.geo/partition=0/124a514b9149.geo+0+0000000102.json",
         "124a514b9149.geo+0+0000000102.json",
         108,
         1724105667000
        ],
        [
         "dbfs:/mnt/124a514b9149-bucket/topics/124a514b9149.geo/partition=0/124a514b9149.geo+0+0000000103.json",
         "124a514b9149.geo+0+0000000103.json",
         108,
         1724189281000
        ],
        [
         "dbfs:/mnt/124a514b9149-bucket/topics/124a514b9149.geo/partition=0/124a514b9149.geo+0+0000000104.json",
         "124a514b9149.geo+0+0000000104.json",
         108,
         1724189283000
        ],
        [
         "dbfs:/mnt/124a514b9149-bucket/topics/124a514b9149.geo/partition=0/124a514b9149.geo+0+0000000105.json",
         "124a514b9149.geo+0+0000000105.json",
         108,
         1724189286000
        ],
        [
         "dbfs:/mnt/124a514b9149-bucket/topics/124a514b9149.geo/partition=0/124a514b9149.geo+0+0000000106.json",
         "124a514b9149.geo+0+0000000106.json",
         113,
         1724189288000
        ],
        [
         "dbfs:/mnt/124a514b9149-bucket/topics/124a514b9149.geo/partition=0/124a514b9149.geo+0+0000000107.json",
         "124a514b9149.geo+0+0000000107.json",
         105,
         1724189289000
        ],
        [
         "dbfs:/mnt/124a514b9149-bucket/topics/124a514b9149.geo/partition=0/124a514b9149.geo+0+0000000108.json",
         "124a514b9149.geo+0+0000000108.json",
         107,
         1724189290000
        ],
        [
         "dbfs:/mnt/124a514b9149-bucket/topics/124a514b9149.geo/partition=0/124a514b9149.geo+0+0000000109.json",
         "124a514b9149.geo+0+0000000109.json",
         113,
         1724189293000
        ],
        [
         "dbfs:/mnt/124a514b9149-bucket/topics/124a514b9149.geo/partition=0/124a514b9149.geo+0+0000000110.json",
         "124a514b9149.geo+0+0000000110.json",
         125,
         1724189294000
        ]
       ],
       "datasetInfos": [],
       "dbfsResultPath": null,
       "isJsonSchema": true,
       "metadata": {},
       "overflow": false,
       "plotOptions": {
        "customPlotOptions": {},
        "displayType": "table",
        "pivotAggregation": null,
        "pivotColumns": null,
        "xColumns": null,
        "yColumns": null
       },
       "removedWidgets": [],
       "schema": [
        {
         "metadata": "{}",
         "name": "path",
         "type": "\"string\""
        },
        {
         "metadata": "{}",
         "name": "name",
         "type": "\"string\""
        },
        {
         "metadata": "{}",
         "name": "size",
         "type": "\"long\""
        },
        {
         "metadata": "{}",
         "name": "modificationTime",
         "type": "\"long\""
        }
       ],
       "type": "table"
      }
     },
     "output_type": "display_data"
    }
   ],
   "source": [
    "# dbutils.fs.unmount(MOUNT_NAME)\n",
    "display(dbutils.fs.ls(\"%s/topics/%s/partition=0/\" % (MOUNT_NAME,'124a514b9149.geo')))\n",
    "#dbfs:/mnt/124a514b9149-bucket/topics/124a514b9149.geo/"
   ]
  },
  {
   "cell_type": "markdown",
   "metadata": {
    "application/vnd.databricks.v1+cell": {
     "cellMetadata": {},
     "inputWidgets": {},
     "nuid": "c22fb58b-60b3-4c13-862d-8c2fd2839dbd",
     "showTitle": false,
     "title": ""
    }
   },
   "source": [
    "\n",
    "## Step 3 - disable format checking\n",
    "\n",
    "Disable format checks during the reading of Delta tables. \n"
   ]
  },
  {
   "cell_type": "code",
   "execution_count": null,
   "metadata": {
    "application/vnd.databricks.v1+cell": {
     "cellMetadata": {
      "byteLimit": 2048000,
      "implicitDf": true,
      "rowLimit": 10000
     },
     "inputWidgets": {},
     "nuid": "00ed3ad8-43bb-480f-b138-7edac06c1f79",
     "showTitle": false,
     "title": ""
    }
   },
   "outputs": [
    {
     "data": {
      "text/html": [
       "<style scoped>\n",
       "  .table-result-container {\n",
       "    max-height: 300px;\n",
       "    overflow: auto;\n",
       "  }\n",
       "  table, th, td {\n",
       "    border: 1px solid black;\n",
       "    border-collapse: collapse;\n",
       "  }\n",
       "  th, td {\n",
       "    padding: 5px;\n",
       "  }\n",
       "  th {\n",
       "    text-align: left;\n",
       "  }\n",
       "</style><div class='table-result-container'><table class='table-result'><thead style='background-color: white'><tr><th>key</th><th>value</th></tr></thead><tbody><tr><td>spark.databricks.delta.formatCheck.enabled</td><td>false</td></tr></tbody></table></div>"
      ]
     },
     "metadata": {
      "application/vnd.databricks.v1+output": {
       "addedWidgets": {},
       "aggData": [],
       "aggError": "",
       "aggOverflow": false,
       "aggSchema": [],
       "aggSeriesLimitReached": false,
       "aggType": "",
       "arguments": {},
       "columnCustomDisplayInfos": {},
       "data": [
        [
         "spark.databricks.delta.formatCheck.enabled",
         "false"
        ]
       ],
       "datasetInfos": [],
       "dbfsResultPath": null,
       "isJsonSchema": true,
       "metadata": {},
       "overflow": false,
       "plotOptions": {
        "customPlotOptions": {},
        "displayType": "table",
        "pivotAggregation": null,
        "pivotColumns": null,
        "xColumns": null,
        "yColumns": null
       },
       "removedWidgets": [],
       "schema": [
        {
         "metadata": "{}",
         "name": "key",
         "type": "\"string\""
        },
        {
         "metadata": "{}",
         "name": "value",
         "type": "\"string\""
        }
       ],
       "type": "table"
      }
     },
     "output_type": "display_data"
    }
   ],
   "source": [
    "%sql\n",
    "-- Disable format checks during the reading of Delta tables\n",
    "SET spark.databricks.delta.formatCheck.enabled=false"
   ]
  },
  {
   "cell_type": "markdown",
   "metadata": {
    "application/vnd.databricks.v1+cell": {
     "cellMetadata": {},
     "inputWidgets": {},
     "nuid": "72d72c41-5253-4bc4-8ec0-9ced4f8849e4",
     "showTitle": false,
     "title": ""
    }
   },
   "source": [
    "## Step 4 - create dataframes for each directory\n",
    "\n",
    "This will create dataframes from the consumed .json files in each dir in the S3 bucket.\n",
    "\n",
    "- df_pin \n",
    "- df_geo \n",
    "- df_user "
   ]
  },
  {
   "cell_type": "code",
   "execution_count": null,
   "metadata": {
    "application/vnd.databricks.v1+cell": {
     "cellMetadata": {
      "byteLimit": 2048000,
      "rowLimit": 10000
     },
     "inputWidgets": {},
     "nuid": "90e5000f-be19-4c30-8e34-42f02c694624",
     "showTitle": false,
     "title": ""
    }
   },
   "outputs": [
    {
     "data": {
      "text/html": [
       "<style scoped>\n",
       "  .table-result-container {\n",
       "    max-height: 300px;\n",
       "    overflow: auto;\n",
       "  }\n",
       "  table, th, td {\n",
       "    border: 1px solid black;\n",
       "    border-collapse: collapse;\n",
       "  }\n",
       "  th, td {\n",
       "    padding: 5px;\n",
       "  }\n",
       "  th {\n",
       "    text-align: left;\n",
       "  }\n",
       "</style><div class='table-result-container'><table class='table-result'><thead style='background-color: white'><tr><th>age</th><th>date_joined</th><th>first_name</th><th>ind</th><th>last_name</th></tr></thead><tbody><tr><td>27</td><td>2016-03-08 13:38:37</td><td>Christopher</td><td>2015</td><td>Bradshaw</td></tr><tr><td>59</td><td>2017-05-12 21:22:17</td><td>Alexander</td><td>10673</td><td>Cervantes</td></tr><tr><td>39</td><td>2016-06-29 20:43:59</td><td>Christina</td><td>6398</td><td>Davenport</td></tr><tr><td>20</td><td>2015-10-23 04:13:23</td><td>Alexandria</td><td>3599</td><td>Alvarado</td></tr><tr><td>20</td><td>2015-12-01 15:08:31</td><td>Christopher</td><td>5076</td><td>Butler</td></tr><tr><td>39</td><td>2017-07-19 07:12:04</td><td>Michelle</td><td>7790</td><td>Gutierrez</td></tr><tr><td>49</td><td>2016-04-22 20:36:02</td><td>Brittany</td><td>10509</td><td>Thompson</td></tr><tr><td>43</td><td>2016-07-21 15:25:08</td><td>Chelsea</td><td>10119</td><td>Gonzalez</td></tr><tr><td>21</td><td>2015-11-10 09:27:42</td><td>Andrea</td><td>8731</td><td>Alexander</td></tr><tr><td>24</td><td>2016-03-31 20:56:39</td><td>Austin</td><td>8887</td><td>Rodriguez</td></tr><tr><td>23</td><td>2015-12-01 18:15:02</td><td>Christine</td><td>7768</td><td>Cortez</td></tr><tr><td>21</td><td>2015-11-10 09:27:42</td><td>Andrea</td><td>8731</td><td>Alexander</td></tr><tr><td>36</td><td>2015-12-20 16:38:13</td><td>Michelle</td><td>4315</td><td>Prince</td></tr><tr><td>32</td><td>2017-10-10 20:09:33</td><td>Christian</td><td>10625</td><td>Lang</td></tr><tr><td>22</td><td>2016-02-11 20:46:04</td><td>Jennifer</td><td>9672</td><td>Hudson</td></tr><tr><td>23</td><td>2015-11-28 11:52:37</td><td>Andrew</td><td>8930</td><td>Anderson</td></tr><tr><td>31</td><td>2017-08-04 14:30:22</td><td>Alexander</td><td>6566</td><td>Perez</td></tr><tr><td>52</td><td>2016-02-07 20:00:25</td><td>Richard</td><td>3729</td><td>Edwards</td></tr><tr><td>40</td><td>2017-05-16 07:09:21</td><td>Michael</td><td>10552</td><td>Hunter</td></tr><tr><td>21</td><td>2015-10-25 07:36:08</td><td>Aaron</td><td>9074</td><td>Alexander</td></tr><tr><td>28</td><td>2016-01-29 20:32:05</td><td>Elizabeth</td><td>3201</td><td>Terry</td></tr><tr><td>36</td><td>2015-12-20 16:38:13</td><td>Michelle</td><td>4315</td><td>Prince</td></tr><tr><td>32</td><td>2016-04-02 03:51:23</td><td>Brittany</td><td>1313</td><td>Jones</td></tr><tr><td>34</td><td>2016-12-22 00:02:02</td><td>Thomas</td><td>10794</td><td>Turner</td></tr><tr><td>20</td><td>2016-01-07 19:49:22</td><td>David</td><td>2959</td><td>Griffith</td></tr><tr><td>26</td><td>2015-12-20 10:28:00</td><td>Brendan</td><td>9875</td><td>Joseph</td></tr><tr><td>21</td><td>2016-01-03 15:42:12</td><td>Annette</td><td>2074</td><td>Forbes</td></tr><tr><td>56</td><td>2016-10-15 17:21:39</td><td>Gregory</td><td>1014</td><td>Ramsey</td></tr><tr><td>59</td><td>2017-06-29 22:35:17</td><td>Michael</td><td>4137</td><td>Decker</td></tr><tr><td>21</td><td>2015-11-24 02:15:36</td><td>Aaron</td><td>2411</td><td>Bartlett</td></tr><tr><td>58</td><td>2016-06-03 23:35:30</td><td>Michael</td><td>4508</td><td>Carter</td></tr><tr><td>32</td><td>2016-03-10 04:11:31</td><td>Brittany</td><td>771</td><td>Butler</td></tr><tr><td>46</td><td>2015-11-27 23:11:21</td><td>Jonathan</td><td>1545</td><td>Avila</td></tr><tr><td>44</td><td>2016-10-29 02:07:21</td><td>Brandon</td><td>603</td><td>Jackson</td></tr><tr><td>22</td><td>2016-02-09 17:01:38</td><td>Carlos</td><td>5630</td><td>Estrada</td></tr><tr><td>32</td><td>2016-06-08 22:10:13</td><td>Donna</td><td>1268</td><td>Campbell</td></tr><tr><td>54</td><td>2016-05-15 04:22:01</td><td>Alexis</td><td>1555</td><td>Bennett</td></tr><tr><td>20</td><td>2015-12-17 08:43:40</td><td>Adam</td><td>3800</td><td>Armstrong</td></tr><tr><td>32</td><td>2016-04-02 03:51:23</td><td>Brittany</td><td>1313</td><td>Jones</td></tr><tr><td>34</td><td>2016-12-22 00:02:02</td><td>Thomas</td><td>10794</td><td>Turner</td></tr><tr><td>25</td><td>2015-12-28 04:21:39</td><td>Charles</td><td>8304</td><td>Berry</td></tr><tr><td>23</td><td>2015-11-25 13:36:22</td><td>Corey</td><td>6063</td><td>Andrews</td></tr><tr><td>48</td><td>2017-09-26 16:31:56</td><td>Robert</td><td>3454</td><td>Murphy</td></tr><tr><td>20</td><td>2017-04-11 16:35:33</td><td>Cheryl</td><td>7554</td><td>Huerta</td></tr><tr><td>30</td><td>2015-12-25 20:24:37</td><td>Emily</td><td>6145</td><td>Hawkins</td></tr><tr><td>31</td><td>2016-11-09 19:50:51</td><td>Kaylee</td><td>9979</td><td>Miller</td></tr><tr><td>24</td><td>2015-11-20 05:37:11</td><td>Angela</td><td>4913</td><td>Brooks</td></tr><tr><td>25</td><td>2015-11-19 21:24:33</td><td>Daniel</td><td>9759</td><td>Brooks</td></tr><tr><td>20</td><td>2016-12-31 00:06:36</td><td>Dawn</td><td>7294</td><td>Anderson</td></tr><tr><td>21</td><td>2015-11-24 02:15:36</td><td>Aaron</td><td>808</td><td>Bartlett</td></tr><tr><td>28</td><td>2016-11-15 10:40:03</td><td>Anthony</td><td>9936</td><td>Cantu</td></tr><tr><td>30</td><td>2016-07-03 10:59:40</td><td>Peter</td><td>6844</td><td>Roberts</td></tr><tr><td>47</td><td>2017-04-26 03:26:23</td><td>Aaron</td><td>3419</td><td>Jenkins</td></tr><tr><td>25</td><td>2017-07-20 05:51:23</td><td>Rhonda</td><td>4988</td><td>Durham</td></tr><tr><td>20</td><td>2017-01-17 01:49:27</td><td>Regina</td><td>552</td><td>Morales</td></tr><tr><td>25</td><td>2015-11-19 21:24:33</td><td>Daniel</td><td>8312</td><td>Brooks</td></tr><tr><td>38</td><td>2015-10-26 09:45:45</td><td>Nicholas</td><td>6261</td><td>Hart</td></tr><tr><td>20</td><td>2015-10-26 23:04:52</td><td>Amanda</td><td>5758</td><td>Arnold</td></tr><tr><td>38</td><td>2017-05-03 03:08:33</td><td>Virginia</td><td>1137</td><td>Vega</td></tr><tr><td>25</td><td>2015-12-28 04:21:39</td><td>Charles</td><td>8304</td><td>Berry</td></tr><tr><td>32</td><td>2016-10-23 14:06:51</td><td>Dylan</td><td>2863</td><td>Holmes</td></tr><tr><td>36</td><td>2015-12-08 20:02:43</td><td>Rachel</td><td>5730</td><td>Davis</td></tr><tr><td>26</td><td>2015-11-11 03:20:57</td><td>Brian</td><td>2923</td><td>Nelson</td></tr><tr><td>20</td><td>2015-10-21 08:27:36</td><td>Amanda</td><td>2418</td><td>Adams</td></tr><tr><td>22</td><td>2015-12-21 08:06:54</td><td>Andrew</td><td>3156</td><td>Baker</td></tr><tr><td>20</td><td>2015-11-28 02:20:29</td><td>Claudia</td><td>428</td><td>Adams</td></tr><tr><td>24</td><td>2016-01-11 12:03:48</td><td>Anne</td><td>7343</td><td>Clayton</td></tr><tr><td>22</td><td>2015-12-31 14:57:02</td><td>Carol</td><td>10138</td><td>Silva</td></tr><tr><td>21</td><td>2015-11-12 06:21:36</td><td>Denise</td><td>7922</td><td>Adams</td></tr><tr><td>22</td><td>2015-10-24 18:56:30</td><td>Amanda</td><td>9590</td><td>Allen</td></tr><tr><td>44</td><td>2017-06-21 19:53:27</td><td>Kayla</td><td>2698</td><td>Burton</td></tr><tr><td>28</td><td>2016-06-16 02:06:38</td><td>Aimee</td><td>831</td><td>Collins</td></tr><tr><td>21</td><td>2015-11-12 06:21:36</td><td>Denise</td><td>8606</td><td>Adams</td></tr><tr><td>20</td><td>2015-10-23 22:47:39</td><td>Larry</td><td>4076</td><td>Pineda</td></tr><tr><td>20</td><td>2015-10-31 18:51:07</td><td>Aaron</td><td>1422</td><td>Abbott</td></tr><tr><td>20</td><td>2015-11-12 03:23:49</td><td>Amanda</td><td>1371</td><td>Brown</td></tr><tr><td>30</td><td>2016-02-21 12:54:01</td><td>Ashley</td><td>2604</td><td>Evans</td></tr><tr><td>59</td><td>2016-12-17 11:10:48</td><td>Ariana</td><td>1198</td><td>Gross</td></tr><tr><td>30</td><td>2016-12-21 13:39:14</td><td>Derrick</td><td>10370</td><td>Kim</td></tr><tr><td>20</td><td>2016-08-26 16:09:52</td><td>Dawn</td><td>7167</td><td>Bradley</td></tr><tr><td>25</td><td>2016-04-27 02:59:27</td><td>Glenn</td><td>772</td><td>Hammond</td></tr><tr><td>20</td><td>2016-07-27 06:20:48</td><td>Debra</td><td>7510</td><td>Becker</td></tr><tr><td>20</td><td>2015-10-26 04:12:32</td><td>Angela</td><td>7234</td><td>Allen</td></tr><tr><td>32</td><td>2016-10-23 14:06:51</td><td>Dylan</td><td>2863</td><td>Holmes</td></tr><tr><td>36</td><td>2015-12-08 20:02:43</td><td>Rachel</td><td>5730</td><td>Davis</td></tr><tr><td>20</td><td>2015-10-24 11:23:51</td><td>Abigail</td><td>7528</td><td>Ali</td></tr><tr><td>25</td><td>2016-01-13 17:36:30</td><td>Amanda</td><td>5069</td><td>Ball</td></tr><tr><td>20</td><td>2015-10-24 11:23:51</td><td>Abigail</td><td>3089</td><td>Ali</td></tr><tr><td>24</td><td>2016-03-09 10:48:14</td><td>Tammy</td><td>8653</td><td>Davis</td></tr><tr><td>20</td><td>2016-01-01 13:50:40</td><td>Alvin</td><td>7166</td><td>Adams</td></tr><tr><td>20</td><td>2016-02-27 21:13:44</td><td>Alex</td><td>9546</td><td>Barnes</td></tr><tr><td>20</td><td>2016-07-23 20:51:06</td><td>Lisa</td><td>5468</td><td>Gamble</td></tr><tr><td>20</td><td>2015-10-23 12:40:19</td><td>Brett</td><td>205</td><td>Bryant</td></tr><tr><td>20</td><td>2016-01-26 01:49:23</td><td>Alicia</td><td>719</td><td>Avila</td></tr><tr><td>20</td><td>2016-07-02 02:32:30</td><td>Ann</td><td>1094</td><td>Elliott</td></tr><tr><td>51</td><td>2016-10-09 14:47:51</td><td>Melanie</td><td>223</td><td>Hill</td></tr><tr><td>32</td><td>2016-08-23 20:36:12</td><td>Shawn</td><td>2637</td><td>Jones</td></tr><tr><td>27</td><td>2016-12-18 10:11:23</td><td>Joshua</td><td>2060</td><td>Long</td></tr><tr><td>21</td><td>2016-01-10 09:41:14</td><td>Jose</td><td>9487</td><td>Bailey</td></tr><tr><td>20</td><td>2015-10-24 11:23:51</td><td>Abigail</td><td>7528</td><td>Ali</td></tr><tr><td>27</td><td>2015-12-16 15:20:05</td><td>Anne</td><td>5494</td><td>Allen</td></tr><tr><td>23</td><td>2016-06-23 14:38:00</td><td>Julie</td><td>10663</td><td>Cox</td></tr><tr><td>20</td><td>2015-10-28 05:00:33</td><td>Barry</td><td>1704</td><td>Lynn</td></tr><tr><td>22</td><td>2016-03-01 07:11:48</td><td>David</td><td>2482</td><td>Moss</td></tr><tr><td>21</td><td>2016-01-07 08:11:35</td><td>Alison</td><td>159</td><td>Bell</td></tr><tr><td>31</td><td>2016-03-07 01:01:24</td><td>Daniel</td><td>5309</td><td>Roy</td></tr><tr><td>24</td><td>2016-01-11 23:08:27</td><td>Alex</td><td>2293</td><td>Bean</td></tr><tr><td>30</td><td>2016-01-06 09:58:56</td><td>Erik</td><td>46</td><td>Kelley</td></tr><tr><td>21</td><td>2015-12-27 23:43:42</td><td>Anne</td><td>2858</td><td>Bond</td></tr><tr><td>48</td><td>2017-06-01 23:13:27</td><td>Joe</td><td>8578</td><td>Pham</td></tr><tr><td>25</td><td>2015-11-26 17:42:37</td><td>Jon</td><td>427</td><td>Burke</td></tr></tbody></table></div>"
      ]
     },
     "metadata": {
      "application/vnd.databricks.v1+output": {
       "addedWidgets": {},
       "aggData": [],
       "aggError": "",
       "aggOverflow": false,
       "aggSchema": [],
       "aggSeriesLimitReached": false,
       "aggType": "",
       "arguments": {},
       "columnCustomDisplayInfos": {},
       "data": [
        [
         27,
         "2016-03-08 13:38:37",
         "Christopher",
         2015,
         "Bradshaw"
        ],
        [
         59,
         "2017-05-12 21:22:17",
         "Alexander",
         10673,
         "Cervantes"
        ],
        [
         39,
         "2016-06-29 20:43:59",
         "Christina",
         6398,
         "Davenport"
        ],
        [
         20,
         "2015-10-23 04:13:23",
         "Alexandria",
         3599,
         "Alvarado"
        ],
        [
         20,
         "2015-12-01 15:08:31",
         "Christopher",
         5076,
         "Butler"
        ],
        [
         39,
         "2017-07-19 07:12:04",
         "Michelle",
         7790,
         "Gutierrez"
        ],
        [
         49,
         "2016-04-22 20:36:02",
         "Brittany",
         10509,
         "Thompson"
        ],
        [
         43,
         "2016-07-21 15:25:08",
         "Chelsea",
         10119,
         "Gonzalez"
        ],
        [
         21,
         "2015-11-10 09:27:42",
         "Andrea",
         8731,
         "Alexander"
        ],
        [
         24,
         "2016-03-31 20:56:39",
         "Austin",
         8887,
         "Rodriguez"
        ],
        [
         23,
         "2015-12-01 18:15:02",
         "Christine",
         7768,
         "Cortez"
        ],
        [
         21,
         "2015-11-10 09:27:42",
         "Andrea",
         8731,
         "Alexander"
        ],
        [
         36,
         "2015-12-20 16:38:13",
         "Michelle",
         4315,
         "Prince"
        ],
        [
         32,
         "2017-10-10 20:09:33",
         "Christian",
         10625,
         "Lang"
        ],
        [
         22,
         "2016-02-11 20:46:04",
         "Jennifer",
         9672,
         "Hudson"
        ],
        [
         23,
         "2015-11-28 11:52:37",
         "Andrew",
         8930,
         "Anderson"
        ],
        [
         31,
         "2017-08-04 14:30:22",
         "Alexander",
         6566,
         "Perez"
        ],
        [
         52,
         "2016-02-07 20:00:25",
         "Richard",
         3729,
         "Edwards"
        ],
        [
         40,
         "2017-05-16 07:09:21",
         "Michael",
         10552,
         "Hunter"
        ],
        [
         21,
         "2015-10-25 07:36:08",
         "Aaron",
         9074,
         "Alexander"
        ],
        [
         28,
         "2016-01-29 20:32:05",
         "Elizabeth",
         3201,
         "Terry"
        ],
        [
         36,
         "2015-12-20 16:38:13",
         "Michelle",
         4315,
         "Prince"
        ],
        [
         32,
         "2016-04-02 03:51:23",
         "Brittany",
         1313,
         "Jones"
        ],
        [
         34,
         "2016-12-22 00:02:02",
         "Thomas",
         10794,
         "Turner"
        ],
        [
         20,
         "2016-01-07 19:49:22",
         "David",
         2959,
         "Griffith"
        ],
        [
         26,
         "2015-12-20 10:28:00",
         "Brendan",
         9875,
         "Joseph"
        ],
        [
         21,
         "2016-01-03 15:42:12",
         "Annette",
         2074,
         "Forbes"
        ],
        [
         56,
         "2016-10-15 17:21:39",
         "Gregory",
         1014,
         "Ramsey"
        ],
        [
         59,
         "2017-06-29 22:35:17",
         "Michael",
         4137,
         "Decker"
        ],
        [
         21,
         "2015-11-24 02:15:36",
         "Aaron",
         2411,
         "Bartlett"
        ],
        [
         58,
         "2016-06-03 23:35:30",
         "Michael",
         4508,
         "Carter"
        ],
        [
         32,
         "2016-03-10 04:11:31",
         "Brittany",
         771,
         "Butler"
        ],
        [
         46,
         "2015-11-27 23:11:21",
         "Jonathan",
         1545,
         "Avila"
        ],
        [
         44,
         "2016-10-29 02:07:21",
         "Brandon",
         603,
         "Jackson"
        ],
        [
         22,
         "2016-02-09 17:01:38",
         "Carlos",
         5630,
         "Estrada"
        ],
        [
         32,
         "2016-06-08 22:10:13",
         "Donna",
         1268,
         "Campbell"
        ],
        [
         54,
         "2016-05-15 04:22:01",
         "Alexis",
         1555,
         "Bennett"
        ],
        [
         20,
         "2015-12-17 08:43:40",
         "Adam",
         3800,
         "Armstrong"
        ],
        [
         32,
         "2016-04-02 03:51:23",
         "Brittany",
         1313,
         "Jones"
        ],
        [
         34,
         "2016-12-22 00:02:02",
         "Thomas",
         10794,
         "Turner"
        ],
        [
         25,
         "2015-12-28 04:21:39",
         "Charles",
         8304,
         "Berry"
        ],
        [
         23,
         "2015-11-25 13:36:22",
         "Corey",
         6063,
         "Andrews"
        ],
        [
         48,
         "2017-09-26 16:31:56",
         "Robert",
         3454,
         "Murphy"
        ],
        [
         20,
         "2017-04-11 16:35:33",
         "Cheryl",
         7554,
         "Huerta"
        ],
        [
         30,
         "2015-12-25 20:24:37",
         "Emily",
         6145,
         "Hawkins"
        ],
        [
         31,
         "2016-11-09 19:50:51",
         "Kaylee",
         9979,
         "Miller"
        ],
        [
         24,
         "2015-11-20 05:37:11",
         "Angela",
         4913,
         "Brooks"
        ],
        [
         25,
         "2015-11-19 21:24:33",
         "Daniel",
         9759,
         "Brooks"
        ],
        [
         20,
         "2016-12-31 00:06:36",
         "Dawn",
         7294,
         "Anderson"
        ],
        [
         21,
         "2015-11-24 02:15:36",
         "Aaron",
         808,
         "Bartlett"
        ],
        [
         28,
         "2016-11-15 10:40:03",
         "Anthony",
         9936,
         "Cantu"
        ],
        [
         30,
         "2016-07-03 10:59:40",
         "Peter",
         6844,
         "Roberts"
        ],
        [
         47,
         "2017-04-26 03:26:23",
         "Aaron",
         3419,
         "Jenkins"
        ],
        [
         25,
         "2017-07-20 05:51:23",
         "Rhonda",
         4988,
         "Durham"
        ],
        [
         20,
         "2017-01-17 01:49:27",
         "Regina",
         552,
         "Morales"
        ],
        [
         25,
         "2015-11-19 21:24:33",
         "Daniel",
         8312,
         "Brooks"
        ],
        [
         38,
         "2015-10-26 09:45:45",
         "Nicholas",
         6261,
         "Hart"
        ],
        [
         20,
         "2015-10-26 23:04:52",
         "Amanda",
         5758,
         "Arnold"
        ],
        [
         38,
         "2017-05-03 03:08:33",
         "Virginia",
         1137,
         "Vega"
        ],
        [
         25,
         "2015-12-28 04:21:39",
         "Charles",
         8304,
         "Berry"
        ],
        [
         32,
         "2016-10-23 14:06:51",
         "Dylan",
         2863,
         "Holmes"
        ],
        [
         36,
         "2015-12-08 20:02:43",
         "Rachel",
         5730,
         "Davis"
        ],
        [
         26,
         "2015-11-11 03:20:57",
         "Brian",
         2923,
         "Nelson"
        ],
        [
         20,
         "2015-10-21 08:27:36",
         "Amanda",
         2418,
         "Adams"
        ],
        [
         22,
         "2015-12-21 08:06:54",
         "Andrew",
         3156,
         "Baker"
        ],
        [
         20,
         "2015-11-28 02:20:29",
         "Claudia",
         428,
         "Adams"
        ],
        [
         24,
         "2016-01-11 12:03:48",
         "Anne",
         7343,
         "Clayton"
        ],
        [
         22,
         "2015-12-31 14:57:02",
         "Carol",
         10138,
         "Silva"
        ],
        [
         21,
         "2015-11-12 06:21:36",
         "Denise",
         7922,
         "Adams"
        ],
        [
         22,
         "2015-10-24 18:56:30",
         "Amanda",
         9590,
         "Allen"
        ],
        [
         44,
         "2017-06-21 19:53:27",
         "Kayla",
         2698,
         "Burton"
        ],
        [
         28,
         "2016-06-16 02:06:38",
         "Aimee",
         831,
         "Collins"
        ],
        [
         21,
         "2015-11-12 06:21:36",
         "Denise",
         8606,
         "Adams"
        ],
        [
         20,
         "2015-10-23 22:47:39",
         "Larry",
         4076,
         "Pineda"
        ],
        [
         20,
         "2015-10-31 18:51:07",
         "Aaron",
         1422,
         "Abbott"
        ],
        [
         20,
         "2015-11-12 03:23:49",
         "Amanda",
         1371,
         "Brown"
        ],
        [
         30,
         "2016-02-21 12:54:01",
         "Ashley",
         2604,
         "Evans"
        ],
        [
         59,
         "2016-12-17 11:10:48",
         "Ariana",
         1198,
         "Gross"
        ],
        [
         30,
         "2016-12-21 13:39:14",
         "Derrick",
         10370,
         "Kim"
        ],
        [
         20,
         "2016-08-26 16:09:52",
         "Dawn",
         7167,
         "Bradley"
        ],
        [
         25,
         "2016-04-27 02:59:27",
         "Glenn",
         772,
         "Hammond"
        ],
        [
         20,
         "2016-07-27 06:20:48",
         "Debra",
         7510,
         "Becker"
        ],
        [
         20,
         "2015-10-26 04:12:32",
         "Angela",
         7234,
         "Allen"
        ],
        [
         32,
         "2016-10-23 14:06:51",
         "Dylan",
         2863,
         "Holmes"
        ],
        [
         36,
         "2015-12-08 20:02:43",
         "Rachel",
         5730,
         "Davis"
        ],
        [
         20,
         "2015-10-24 11:23:51",
         "Abigail",
         7528,
         "Ali"
        ],
        [
         25,
         "2016-01-13 17:36:30",
         "Amanda",
         5069,
         "Ball"
        ],
        [
         20,
         "2015-10-24 11:23:51",
         "Abigail",
         3089,
         "Ali"
        ],
        [
         24,
         "2016-03-09 10:48:14",
         "Tammy",
         8653,
         "Davis"
        ],
        [
         20,
         "2016-01-01 13:50:40",
         "Alvin",
         7166,
         "Adams"
        ],
        [
         20,
         "2016-02-27 21:13:44",
         "Alex",
         9546,
         "Barnes"
        ],
        [
         20,
         "2016-07-23 20:51:06",
         "Lisa",
         5468,
         "Gamble"
        ],
        [
         20,
         "2015-10-23 12:40:19",
         "Brett",
         205,
         "Bryant"
        ],
        [
         20,
         "2016-01-26 01:49:23",
         "Alicia",
         719,
         "Avila"
        ],
        [
         20,
         "2016-07-02 02:32:30",
         "Ann",
         1094,
         "Elliott"
        ],
        [
         51,
         "2016-10-09 14:47:51",
         "Melanie",
         223,
         "Hill"
        ],
        [
         32,
         "2016-08-23 20:36:12",
         "Shawn",
         2637,
         "Jones"
        ],
        [
         27,
         "2016-12-18 10:11:23",
         "Joshua",
         2060,
         "Long"
        ],
        [
         21,
         "2016-01-10 09:41:14",
         "Jose",
         9487,
         "Bailey"
        ],
        [
         20,
         "2015-10-24 11:23:51",
         "Abigail",
         7528,
         "Ali"
        ],
        [
         27,
         "2015-12-16 15:20:05",
         "Anne",
         5494,
         "Allen"
        ],
        [
         23,
         "2016-06-23 14:38:00",
         "Julie",
         10663,
         "Cox"
        ],
        [
         20,
         "2015-10-28 05:00:33",
         "Barry",
         1704,
         "Lynn"
        ],
        [
         22,
         "2016-03-01 07:11:48",
         "David",
         2482,
         "Moss"
        ],
        [
         21,
         "2016-01-07 08:11:35",
         "Alison",
         159,
         "Bell"
        ],
        [
         31,
         "2016-03-07 01:01:24",
         "Daniel",
         5309,
         "Roy"
        ],
        [
         24,
         "2016-01-11 23:08:27",
         "Alex",
         2293,
         "Bean"
        ],
        [
         30,
         "2016-01-06 09:58:56",
         "Erik",
         46,
         "Kelley"
        ],
        [
         21,
         "2015-12-27 23:43:42",
         "Anne",
         2858,
         "Bond"
        ],
        [
         48,
         "2017-06-01 23:13:27",
         "Joe",
         8578,
         "Pham"
        ],
        [
         25,
         "2015-11-26 17:42:37",
         "Jon",
         427,
         "Burke"
        ]
       ],
       "datasetInfos": [],
       "dbfsResultPath": null,
       "isJsonSchema": true,
       "metadata": {},
       "overflow": false,
       "plotOptions": {
        "customPlotOptions": {},
        "displayType": "table",
        "pivotAggregation": null,
        "pivotColumns": null,
        "xColumns": null,
        "yColumns": null
       },
       "removedWidgets": [],
       "schema": [
        {
         "metadata": "{}",
         "name": "age",
         "type": "\"long\""
        },
        {
         "metadata": "{}",
         "name": "date_joined",
         "type": "\"string\""
        },
        {
         "metadata": "{}",
         "name": "first_name",
         "type": "\"string\""
        },
        {
         "metadata": "{}",
         "name": "ind",
         "type": "\"long\""
        },
        {
         "metadata": "{}",
         "name": "last_name",
         "type": "\"string\""
        }
       ],
       "type": "table"
      }
     },
     "output_type": "display_data"
    }
   ],
   "source": [
    "# File location and type\n",
    "# Asterisk(*) indicates reading all the content of the specified file that have .json extension\n",
    "df_list = []\n",
    "for i in [ \"124a514b9149.pin\", \"124a514b9149.geo\", \"124a514b9149.user\"]:\n",
    "    file_location = \"%s/topics/%s/partition=0/*json\" % (MOUNT_NAME,i) # \"/mnt/mount_name/filepath_to_data_objects/*.json\"\n",
    "    file_type = \"json\"\n",
    "    # Ask Spark to infer the schema\n",
    "    infer_schema = \"true\"\n",
    "    # Read in JSONs from mounted S3 bucket\n",
    "    df = spark.read.format(file_type) \\\n",
    "    .option(\"inferSchema\", infer_schema) \\\n",
    "    .load(file_location)\n",
    "    # Display Spark dataframe to check its content\n",
    "    # i[0][0] = df\n",
    "    # display(df)\n",
    "    df_list.append(df)\n",
    "\n",
    "df_pin = df_list[0]\n",
    "df_geo = df_list[1]\n",
    "df_user = df_list[2]"
   ]
  },
  {
   "cell_type": "markdown",
   "metadata": {},
   "source": [
    "## Clean the dataframe that contains information about Pintrest Posts\n",
    "\n",
    "* Replace empty entries and entries with no relevant data in each column with `Nones`\n",
    "* Perform the necessary transformations on the `follower_count` to ensure every entry is a number. Make sure the data type of this column is an `int`.\n",
    "* Ensure that each column containing numeric data has a numeric data type\n",
    "* Clean the data in the `save_location` column to include only the save location path\n",
    "* Rename the `index` column to `ind`.\n",
    "* Reorder the DataFrame columns to have the following column order:\n",
    "    * `ind`\n",
    "    * `unique_id`\n",
    "    * `title`\n",
    "    * `description`\n",
    "    * `follower_count`\n",
    "    * `poster_name`\n",
    "    * `tag_list`\n",
    "    * `is_image_or_video`\n",
    "    * `image_src`\n",
    "    * `save_location`\n",
    "    * `category`"
   ]
  },
  {
   "cell_type": "code",
   "execution_count": null,
   "metadata": {},
   "outputs": [],
   "source": [
    "from pyspark.sql.functions import col, when, regexp_extract\n",
    "\n",
    "# Replace empty entries and entries with no relevant data in each column with `Nones`\n",
    "# df_pin = df_pin.na.fill(None)\n",
    "\n",
    "# Rename the `index` column to `ind`.\n",
    "df_pin = df_pin.withColumnRenamed('index', 'ind')\n",
    "\n",
    "# Ensure that each column containing numeric data has a numeric data type\n",
    "\n",
    "## convert follower_count to int\n",
    "df_pin = df_pin.withColumn(\n",
    "    \"follower_count\",\n",
    "    when(\n",
    "        col(\"follower_count\").contains('k'),\n",
    "        (regexp_extract(\"follower_count\", r'(\\d+)', 1).cast(\"int\") * 1000)\n",
    "    ).when(\n",
    "        col(\"follower_count\").contains('M'),\n",
    "        (regexp_extract(\"follower_count\", r'(\\d+)', 1).cast(\"int\") * 1000000)\n",
    "    ).otherwise(col(\"follower_count\").cast(\"int\"))\n",
    ")\n",
    "##convert ind to int\n",
    "df_pin = df_pin.withColumn(\"ind\", df_pin[\"ind\"].cast(\"int\"))\n",
    "\n",
    "# Clean the data in the `save_location` column to include only the save location path\n",
    "df_pin = df_pin.withColumn(\"save_location\", regexp_extract(\"save_location\", r\"/.*\", 0))\n",
    "\n",
    "#re-order columns\n",
    "df_pin = df_pin[[ 'ind', 'unique_id', 'title', 'description', 'follower_count', 'poster_name', 'tag_list', 'is_image_or_video', 'image_src', 'save_location', 'category']]\n"
   ]
  },
  {
   "cell_type": "markdown",
   "metadata": {},
   "source": [
    "## clean the `df_geo` DataFrame with the following transformations:\n",
    "\n",
    "  \n",
    "* Create a new column `coordinates` that contains an array based on the `latitude` and `longitude` columns\n",
    "* Drop the `latitude` and `longitude` columns from the DataFrame\n",
    "* Convert the `timestamp` column from a string to a timestamp data type\n",
    "* Reorder the DataFrame columns to have the following column order:\n",
    "    * `ind`\n",
    "    * `country`\n",
    "    * `coordinates`\n",
    "    * `timestamp`"
   ]
  },
  {
   "cell_type": "code",
   "execution_count": null,
   "metadata": {},
   "outputs": [],
   "source": [
    "from pyspark.sql.functions import array, col, to_timestamp\n",
    "\n",
    "# Create a new column `coordinates` that contains an array based on the `latitude` and `longitude` columns\n",
    "if 'latitude' in df_geo.columns and 'longitude' in df_geo.columns:\n",
    "    df_geo = df_geo.withColumn('coordinates', array(col('latitude'), col('longitude')))\n",
    "\n",
    "# Drop the `latitude` and `longitude` columns from the DataFrame\n",
    "df_geo = df_geo.drop('latitude', 'longitude')\n",
    "\n",
    "# Convert the `timestamp` column from a string to a timestamp data type\n",
    "df_geo = df_geo.withColumn('timestamp', to_timestamp(col('timestamp')))\n",
    "\n",
    "#re-order columns\n",
    "df_geo = df_geo[['ind', 'country', 'coordinates', 'timestamp']]\n"
   ]
  },
  {
   "cell_type": "markdown",
   "metadata": {},
   "source": [
    "##  Task 3: Clean the DataFrame that contains information about users.\n",
    "\n",
    "* Create a new column `user_name` that concatenates the information found in the `first_name` and `last_name` columns\n",
    "* Drop the `first_name` and `last_name` columns from the DataFrame\n",
    "* Convert the `date_joined` column from a string to a timestamp data type\n",
    "* Reorder the DataFrame columns to have the following column order:\n",
    "    * `ind`\n",
    "    * `user_name`\n",
    "    * `age`\n",
    "    * `date_joined`\n"
   ]
  },
  {
   "cell_type": "code",
   "execution_count": null,
   "metadata": {},
   "outputs": [],
   "source": [
    "from pyspark.sql.functions import concat, lit\n",
    "\n",
    "# Create a new column `user_name` that concatenates the information found in the `first_name` and `last_name` columns\n",
    "if 'first_name' in df_user.columns and 'last_name' in df_user.columns:\n",
    "    df_user = df_user.withColumn('user_name', concat(col('first_name'),lit(' '), col('last_name')))\n",
    "\n",
    "# Drop the `first_name` and `last_name` columns from the DataFrame\n",
    "df_user = df_user.drop('first_name', 'last_name')\n",
    "\n",
    "# Convert the `date_joined` column from a string to a timestamp data type\n",
    "df_user = df_user.withColumn('date_joined', to_timestamp(col('date_joined')))\n",
    "\n",
    "# re-order columns\n",
    "df_user = df_user[['ind', 'user_name', 'age', 'date_joined']]\n"
   ]
  },
  {
   "cell_type": "markdown",
   "metadata": {},
   "source": [
    "## Data Analysis\n",
    "\n",
    "### Find the most popular category in each country.\n"
   ]
  },
  {
   "cell_type": "code",
   "execution_count": null,
   "metadata": {},
   "outputs": [],
   "source": [
    "\n",
    "# join the two dataframes\n",
    "popular_category_df = df_pin.join(df_geo, on='ind', how='inner')\n",
    "\n",
    "# group by country and category and count, col called \"category_count\"\n",
    "popular_category_df = popular_category_df.groupBy('country', 'category').agg({'ind': 'count'}).withColumnRenamed('count(ind)', 'category_count')\n",
    "#sort by category_count\n",
    "popular_category_df = popular_category_df.orderBy(col('category_count').desc())\n",
    "display(popular_category_df)\n"
   ]
  }
 ],
 "metadata": {
  "application/vnd.databricks.v1+notebook": {
   "dashboards": [],
   "environmentMetadata": null,
   "language": "python",
   "notebookMetadata": {
    "mostRecentlyExecutedCommandWithImplicitDF": {
     "commandId": 102914961550334,
     "dataframes": [
      "_sqldf"
     ]
    },
    "pythonIndentUnit": 4
   },
   "notebookName": "s3->databricks",
   "widgets": {}
  },
  "language_info": {
   "name": "python"
  }
 },
 "nbformat": 4,
 "nbformat_minor": 0
}
